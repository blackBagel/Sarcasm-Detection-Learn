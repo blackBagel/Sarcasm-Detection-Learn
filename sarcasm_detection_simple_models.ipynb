{
  "nbformat": 4,
  "nbformat_minor": 0,
  "metadata": {
    "colab": {
      "name": "sarcasm_detection-simple_models.ipynb",
      "provenance": [],
      "collapsed_sections": [],
      "include_colab_link": true
    },
    "kernelspec": {
      "display_name": "Python 3",
      "language": "python",
      "name": "python3"
    },
    "language_info": {
      "codemirror_mode": {
        "name": "ipython",
        "version": 3
      },
      "file_extension": ".py",
      "mimetype": "text/x-python",
      "name": "python",
      "nbconvert_exporter": "python",
      "pygments_lexer": "ipython3",
      "version": "3.6.8"
    }
  },
  "cells": [
    {
      "cell_type": "markdown",
      "metadata": {
        "id": "view-in-github",
        "colab_type": "text"
      },
      "source": [
        "<a href=\"https://colab.research.google.com/github/blackBagel/Sarcasm-Detection-Learn/blob/main/sarcasm_detection_simple_models.ipynb\" target=\"_parent\"><img src=\"https://colab.research.google.com/assets/colab-badge.svg\" alt=\"Open In Colab\"/></a>"
      ]
    },
    {
      "cell_type": "code",
      "metadata": {
        "id": "E3Azf7jp10cF"
      },
      "source": [
        "from __future__ import print_function\n",
        "import pandas as pd\n",
        "import numpy as np\n",
        "import os\n",
        "from google.colab import drive\n",
        "from tqdm import tqdm\n",
        "from sklearn.model_selection import train_test_split\n",
        "import spacy\n",
        "import re\n",
        "from sklearn import preprocessing, decomposition, model_selection, pipeline\n",
        "from sklearn.feature_extraction.text import TfidfVectorizer, CountVectorizer\n",
        "from sklearn.linear_model import LogisticRegression\n",
        "from sklearn.metrics import log_loss, accuracy_score\n",
        "from sklearn.pipeline import Pipeline\n",
        "import eli5\n",
        "import matplotlib.pyplot as plt"
      ],
      "execution_count": null,
      "outputs": []
    },
    {
      "cell_type": "markdown",
      "metadata": {
        "id": "vo17lJdKI2U3"
      },
      "source": [
        "# Data preparation"
      ]
    },
    {
      "cell_type": "markdown",
      "metadata": {
        "id": "o4oKsS2VIo0k"
      },
      "source": [
        "### Load the data into a list of strings"
      ]
    },
    {
      "cell_type": "code",
      "metadata": {
        "id": "YwDkTHa3IXTV"
      },
      "source": [
        "DRIVE_PATH = '/gdrive/My Drive/Data Projects/Reddit reimagined'\n",
        "drive.mount('/gdrive')\n",
        "os.chdir(DRIVE_PATH)"
      ],
      "execution_count": null,
      "outputs": []
    },
    {
      "cell_type": "code",
      "metadata": {
        "id": "A_G25c4LINkx"
      },
      "source": [
        "columns = [\n",
        "    'label',\n",
        "    'comment',\n",
        "    'author',\n",
        "    'subreddit',\n",
        "    'score',\n",
        "    'ups',\n",
        "    'downs',\n",
        "    'date',\n",
        "    'created_utc',\n",
        "    'parent_comment'\n",
        "]"
      ],
      "execution_count": null,
      "outputs": []
    },
    {
      "cell_type": "code",
      "metadata": {
        "id": "GR8jhW6XImfn"
      },
      "source": [
        "full_comments_df = pd.read_csv(\"train-balanced-sarc.csv\", delimiter='\\t', names=columns)\n",
        "full_comments_df = full_comments_df.dropna()\n",
        "\n",
        "full_comments = full_comments_df['comment'].tolist()\n",
        "full_labels = full_comments_df['label'].tolist()"
      ],
      "execution_count": null,
      "outputs": []
    },
    {
      "cell_type": "markdown",
      "metadata": {
        "id": "hEskcbTYJfqH"
      },
      "source": [
        "# Research Process"
      ]
    },
    {
      "cell_type": "markdown",
      "metadata": {
        "id": "oFvpouHVJjG7"
      },
      "source": [
        "## We begin our research by trying out a basic logistic regression model with different feature sets\n",
        "\n"
      ]
    },
    {
      "cell_type": "markdown",
      "metadata": {
        "id": "IhCmO3fvV3lE"
      },
      "source": [
        "### First, a relatively primitive count vectorizer of the texts"
      ]
    },
    {
      "cell_type": "code",
      "metadata": {
        "id": "nX7ct9oLXFH2"
      },
      "source": [
        "# We use the same train_test split for this part of the research\n",
        "x_train, x_test, y_train, y_test = train_test_split(full_comments,\n",
        "                                                    full_labels,\n",
        "                                                    random_state=1,\n",
        "                                                    test_size=0.2,\n",
        "                                                    shuffle=True)"
      ],
      "execution_count": null,
      "outputs": []
    },
    {
      "cell_type": "code",
      "metadata": {
        "id": "961AIbjXWYpT"
      },
      "source": [
        "ctv = CountVectorizer(ngram_range=(1, 2), min_df=2)\n",
        "lr_ctv_clf = LogisticRegression(solver='saga', C=1, n_jobs=4, verbose=0)\n",
        "ctv_logit_pipeline = Pipeline([('counter', ctv), \n",
        "                                 ('logitRegressor', lr_ctv_clf)])"
      ],
      "execution_count": null,
      "outputs": []
    },
    {
      "cell_type": "code",
      "metadata": {
        "id": "79CZ5F5UWZ_Z"
      },
      "source": [
        "%%time\n",
        "ctv_logit_pipeline.fit(x_train, y_train)"
      ],
      "execution_count": null,
      "outputs": []
    },
    {
      "cell_type": "code",
      "metadata": {
        "id": "ZrADpSmwWzsb"
      },
      "source": [
        "predictions = ctv_logit_pipeline.predict_proba(x_test)\n",
        "print (\"logloss: %0.3f \" % log_loss(y_test, predictions))\n",
        "print (\"accuracy: %0.3f \" % ctv_logit_pipeline.score(x_test, y_test))"
      ],
      "execution_count": null,
      "outputs": []
    },
    {
      "cell_type": "markdown",
      "metadata": {
        "id": "1hBZQyhDXZqV"
      },
      "source": [
        "### We also test a basic tf-idf vector"
      ]
    },
    {
      "cell_type": "code",
      "metadata": {
        "id": "1UkKmNJ8KytE"
      },
      "source": [
        "# We'll first try to create a simple baseline model\n",
        "# Our baseline model will be a logistic regression model, which we'll train on the unigram tf_idf vectors of the original comments text \n",
        "tfv = TfidfVectorizer()\n",
        "\n",
        "tfidf_logit_pipeline = Pipeline([('tf_idf', tfv), \n",
        "                                 ('logitRegressor', lr_tfv_clf)])\n",
        "lr_tfv_clf = LogisticRegression(solver='saga')"
      ],
      "execution_count": null,
      "outputs": []
    },
    {
      "cell_type": "code",
      "metadata": {
        "id": "mbcU2CtBlLGa"
      },
      "source": [
        "%%time\n",
        "tfidf_logit_pipeline.fit(x_train, y_train)"
      ],
      "execution_count": null,
      "outputs": []
    },
    {
      "cell_type": "code",
      "metadata": {
        "id": "YkaRSFgSlNh0"
      },
      "source": [
        "predictions = lr_tfv_clf.predict_proba(x_test)\n",
        "\n",
        "print (\"logloss: %0.3f \" % log_loss(y_test, predictions))\n",
        "print (\"accuracy: %0.3f \" % lr_tfv_clf.score(x_test, y_test))"
      ],
      "execution_count": null,
      "outputs": []
    },
    {
      "cell_type": "markdown",
      "metadata": {
        "id": "LJY5hYrFXgrG"
      },
      "source": [
        "### We try a more sophisticated tf-idf vector"
      ]
    },
    {
      "cell_type": "code",
      "metadata": {
        "id": "VDp5qv7mLQaq"
      },
      "source": [
        "# Now let's try to run the same model, but on a more sophisticated tf-idf \n",
        "# This vectorizor is trained on both unigrams and bigrams, and only considers words that were used at least twice\n",
        "tfv = TfidfVectorizer(ngram_range=(1, 2), min_df=2)\n",
        "lr_tfv_clf = LogisticRegression(solver='saga', C=1, n_jobs=4, verbose=0)\n",
        "tfidf_logit_pipeline = Pipeline([('tf_idf', tfv), \n",
        "                                 ('logitRegressor', lr_tfv_clf)])"
      ],
      "execution_count": null,
      "outputs": []
    },
    {
      "cell_type": "code",
      "metadata": {
        "id": "-BmVM_nWVEjb"
      },
      "source": [
        "%%time\n",
        "tfidf_logit_pipeline.fit(x_train, y_train)"
      ],
      "execution_count": null,
      "outputs": []
    },
    {
      "cell_type": "code",
      "metadata": {
        "id": "eefMkLZWVGDB"
      },
      "source": [
        "# This model gave us the best performance for this part of the research\n",
        "predictions = tfidf_logit_pipeline.predict_proba(x_test)\n",
        "print (\"logloss: %0.3f \" % log_loss(y_test, predictions))\n",
        "print (\"accuracy: %0.3f \" % tfidf_logit_pipeline.score(x_test, y_test))"
      ],
      "execution_count": null,
      "outputs": []
    },
    {
      "cell_type": "code",
      "metadata": {
        "id": "fqOkWA0NVTBI"
      },
      "source": [
        "# Because it was te best model we tried to understand better what affected his performance\n",
        "eli5.show_weights(estimator=tfidf_logit_pipeline.named_steps['logitRegressor'],\n",
        "                  vec=tfidf_logit_pipeline.named_steps['tf_idf'])"
      ],
      "execution_count": null,
      "outputs": []
    },
    {
      "cell_type": "markdown",
      "metadata": {
        "id": "J5l8ZFfFVnTz"
      },
      "source": [
        "### We theorize that certain pos tags could be strong indicators of sarcasm"
      ]
    },
    {
      "cell_type": "code",
      "metadata": {
        "id": "38zBk3a5ZZrC"
      },
      "source": [
        "# !python -m spacy download en_core_web_lg\n",
        "nlp = spacy.load('en_core_web_lg', disable=['parser', 'ner', 'textcat'])"
      ],
      "execution_count": null,
      "outputs": []
    },
    {
      "cell_type": "code",
      "metadata": {
        "id": "iRUCqQauaDzU"
      },
      "source": [
        "comments_pos_tags = []\n",
        "print('Parsing pos tags...')\n",
        "parsed_comments = [nlp(comment) for comment in tqdm(comments)]\n",
        "for parsed_comment in parsed_comments:\n",
        "  comment_pos_tags = []\n",
        "  for word in parsed_comment:\n",
        "    comment_pos_tags.append(word.tag_)\n",
        "  comments_pos_tags.append(' '.join(comment_pos_tags))"
      ],
      "execution_count": null,
      "outputs": []
    },
    {
      "cell_type": "code",
      "metadata": {
        "id": "vWK-jL7rZUqy"
      },
      "source": [
        "# Now let's try to run the same model, but on a more sophisticated tf-idf \n",
        "tfv = TfidfVectorizer(ngram_range=(1, 2), min_df=2)\n",
        "lr_tfv_clf = LogisticRegression(solver='saga', C=1, n_jobs=4, verbose=0)\n",
        "tfidf_logit_pipeline = Pipeline([('tf_idf', tfv), \n",
        "                                 ('logitRegressor', lr_tfv_clf)])\n",
        "\n",
        "# This vectorizor is trained on both unigrams and bigrams, and only considers words that were used at least twice\n",
        "x_train, x_test, y_train, y_test = train_test_split(comments_pos_tags,\n",
        "                                                    full_labels,\n",
        "                                                    random_state=1,\n",
        "                                                    test_size=0.2,\n",
        "                                                    shuffle=True)"
      ],
      "execution_count": null,
      "outputs": []
    },
    {
      "cell_type": "code",
      "metadata": {
        "id": "AjZJL0AHZ9wV"
      },
      "source": [
        "%%time\n",
        "tfidf_logit_pipeline.fit(x_train, y_train)"
      ],
      "execution_count": null,
      "outputs": []
    },
    {
      "cell_type": "code",
      "metadata": {
        "id": "3GO5wWHeZ-Pf"
      },
      "source": [
        "predictions = tfidf_logit_pipeline.predict_proba(x_test)\n",
        "print (\"logloss: %0.3f \" % log_loss(y_test, predictions))\n",
        "print (\"accuracy: %0.3f \" % tfidf_logit_pipeline.score(x_test, y_test))\n",
        "\n",
        "# As it seems, using the plain pos tags as replacements of the words, loses some vital information for the classification\n",
        "eli5.show_weights(estimator=tfidf_logit_pipeline.named_steps['logitRegressor'],\n",
        "                  vec=tfidf_logit_pipeline.named_steps['tf_idf'])"
      ],
      "execution_count": null,
      "outputs": []
    }
  ]
}