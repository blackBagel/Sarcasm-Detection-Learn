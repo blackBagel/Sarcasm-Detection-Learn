{
  "nbformat": 4,
  "nbformat_minor": 0,
  "metadata": {
    "colab": {
      "name": "sarcasm_detection-simple_models.ipynb",
      "provenance": [],
      "collapsed_sections": [],
      "toc_visible": true,
      "include_colab_link": true
    },
    "kernelspec": {
      "display_name": "Python 3",
      "language": "python",
      "name": "python3"
    },
    "language_info": {
      "codemirror_mode": {
        "name": "ipython",
        "version": 3
      },
      "file_extension": ".py",
      "mimetype": "text/x-python",
      "name": "python",
      "nbconvert_exporter": "python",
      "pygments_lexer": "ipython3",
      "version": "3.6.8"
    }
  },
  "cells": [
    {
      "cell_type": "markdown",
      "metadata": {
        "id": "view-in-github",
        "colab_type": "text"
      },
      "source": [
        "<a href=\"https://colab.research.google.com/github/blackBagel/Sarcasm-Detection-Learn/blob/main/sarcasm_detection_simple_models.ipynb\" target=\"_parent\"><img src=\"https://colab.research.google.com/assets/colab-badge.svg\" alt=\"Open In Colab\"/></a>"
      ]
    },
    {
      "cell_type": "code",
      "metadata": {
        "id": "mqllYLjHrLXf",
        "outputId": "34e36b9c-d22c-4884-855b-bfa1cde6e367",
        "colab": {
          "base_uri": "https://localhost:8080/",
          "height": 581
        }
      },
      "source": [
        "! pip install -U eli5 clean-text"
      ],
      "execution_count": 1,
      "outputs": [
        {
          "output_type": "stream",
          "text": [
            "Collecting eli5\n",
            "\u001b[?25l  Downloading https://files.pythonhosted.org/packages/97/2f/c85c7d8f8548e460829971785347e14e45fa5c6617da374711dec8cb38cc/eli5-0.10.1-py2.py3-none-any.whl (105kB)\n",
            "\u001b[K     |████████████████████████████████| 112kB 3.5MB/s \n",
            "\u001b[?25hCollecting clean-text\n",
            "  Downloading https://files.pythonhosted.org/packages/78/30/7013e9bf37e00ad81406c771e8f5b071c624b8ab27a7984cd9b8434bed4f/clean_text-0.3.0-py3-none-any.whl\n",
            "Requirement already satisfied, skipping upgrade: graphviz in /usr/local/lib/python3.6/dist-packages (from eli5) (0.10.1)\n",
            "Requirement already satisfied, skipping upgrade: six in /usr/local/lib/python3.6/dist-packages (from eli5) (1.15.0)\n",
            "Requirement already satisfied, skipping upgrade: numpy>=1.9.0 in /usr/local/lib/python3.6/dist-packages (from eli5) (1.18.5)\n",
            "Requirement already satisfied, skipping upgrade: tabulate>=0.7.7 in /usr/local/lib/python3.6/dist-packages (from eli5) (0.8.7)\n",
            "Requirement already satisfied, skipping upgrade: jinja2 in /usr/local/lib/python3.6/dist-packages (from eli5) (2.11.2)\n",
            "Requirement already satisfied, skipping upgrade: scikit-learn>=0.18 in /usr/local/lib/python3.6/dist-packages (from eli5) (0.22.2.post1)\n",
            "Requirement already satisfied, skipping upgrade: attrs>16.0.0 in /usr/local/lib/python3.6/dist-packages (from eli5) (20.2.0)\n",
            "Requirement already satisfied, skipping upgrade: scipy in /usr/local/lib/python3.6/dist-packages (from eli5) (1.4.1)\n",
            "Collecting ftfy<6.0,>=5.8\n",
            "\u001b[?25l  Downloading https://files.pythonhosted.org/packages/ff/e2/3b51c53dffb1e52d9210ebc01f1fb9f2f6eba9b3201fa971fd3946643c71/ftfy-5.8.tar.gz (64kB)\n",
            "\u001b[K     |████████████████████████████████| 71kB 6.0MB/s \n",
            "\u001b[?25hCollecting emoji\n",
            "\u001b[?25l  Downloading https://files.pythonhosted.org/packages/ff/1c/1f1457fe52d0b30cbeebfd578483cedb3e3619108d2d5a21380dfecf8ffd/emoji-0.6.0.tar.gz (51kB)\n",
            "\u001b[K     |████████████████████████████████| 51kB 4.9MB/s \n",
            "\u001b[?25hRequirement already satisfied, skipping upgrade: MarkupSafe>=0.23 in /usr/local/lib/python3.6/dist-packages (from jinja2->eli5) (1.1.1)\n",
            "Requirement already satisfied, skipping upgrade: joblib>=0.11 in /usr/local/lib/python3.6/dist-packages (from scikit-learn>=0.18->eli5) (0.16.0)\n",
            "Requirement already satisfied, skipping upgrade: wcwidth in /usr/local/lib/python3.6/dist-packages (from ftfy<6.0,>=5.8->clean-text) (0.2.5)\n",
            "Building wheels for collected packages: ftfy, emoji\n",
            "  Building wheel for ftfy (setup.py) ... \u001b[?25l\u001b[?25hdone\n",
            "  Created wheel for ftfy: filename=ftfy-5.8-cp36-none-any.whl size=45612 sha256=bd3ecdde8bb10f70c5e56b17ef747302e4dd26cb2bc5a2eb7fd92af112442568\n",
            "  Stored in directory: /root/.cache/pip/wheels/ba/c0/ef/f28c4da5ac84a4e06ac256ca9182fc34fa57fefffdbc68425b\n",
            "  Building wheel for emoji (setup.py) ... \u001b[?25l\u001b[?25hdone\n",
            "  Created wheel for emoji: filename=emoji-0.6.0-cp36-none-any.whl size=49716 sha256=2f759a8b8631be3b2e7f71c872cf0dd6ceb34cc09236ee8d3902941c00076006\n",
            "  Stored in directory: /root/.cache/pip/wheels/46/2c/8b/9dcf5216ca68e14e0320e283692dce8ae321cdc01e73e17796\n",
            "Successfully built ftfy emoji\n",
            "Installing collected packages: eli5, ftfy, emoji, clean-text\n",
            "Successfully installed clean-text-0.3.0 eli5-0.10.1 emoji-0.6.0 ftfy-5.8\n"
          ],
          "name": "stdout"
        }
      ]
    },
    {
      "cell_type": "code",
      "metadata": {
        "id": "E3Azf7jp10cF",
        "outputId": "72806fc9-39e1-4abe-da13-9d3b8f98dfc2",
        "colab": {
          "base_uri": "https://localhost:8080/",
          "height": 122
        }
      },
      "source": [
        "from __future__ import print_function\n",
        "import pandas as pd\n",
        "import numpy as np\n",
        "import os\n",
        "from google.colab import drive\n",
        "from tqdm import tqdm\n",
        "from sklearn.model_selection import train_test_split\n",
        "import spacy\n",
        "import re\n",
        "from cleantext import clean\n",
        "from joblib import Parallel, delayed\n",
        "from sklearn import preprocessing, decomposition, model_selection, pipeline\n",
        "from sklearn.feature_extraction.text import TfidfVectorizer, CountVectorizer\n",
        "from sklearn.linear_model import LogisticRegression\n",
        "from sklearn.metrics import accuracy_score, precision_score, recall_score\n",
        "from sklearn.pipeline import Pipeline\n",
        "import eli5\n",
        "import matplotlib.pyplot as plt\n",
        "%matplotlib inline"
      ],
      "execution_count": 2,
      "outputs": [
        {
          "output_type": "stream",
          "text": [
            "Since the GPL-licensed package `unidecode` is not installed, using Python's `unicodedata` package which yields worse results.\n",
            "/usr/local/lib/python3.6/dist-packages/sklearn/utils/deprecation.py:144: FutureWarning: The sklearn.metrics.scorer module is  deprecated in version 0.22 and will be removed in version 0.24. The corresponding classes / functions should instead be imported from sklearn.metrics. Anything that cannot be imported from sklearn.metrics is now part of the private API.\n",
            "  warnings.warn(message, FutureWarning)\n",
            "/usr/local/lib/python3.6/dist-packages/sklearn/utils/deprecation.py:144: FutureWarning: The sklearn.feature_selection.base module is  deprecated in version 0.22 and will be removed in version 0.24. The corresponding classes / functions should instead be imported from sklearn.feature_selection. Anything that cannot be imported from sklearn.feature_selection is now part of the private API.\n",
            "  warnings.warn(message, FutureWarning)\n"
          ],
          "name": "stderr"
        }
      ]
    },
    {
      "cell_type": "markdown",
      "metadata": {
        "id": "vo17lJdKI2U3"
      },
      "source": [
        "# Data preparation"
      ]
    },
    {
      "cell_type": "code",
      "metadata": {
        "id": "YwDkTHa3IXTV",
        "outputId": "3df7da95-e3ce-4725-deae-4bbf8f55ea9d",
        "colab": {
          "base_uri": "https://localhost:8080/",
          "height": 34
        }
      },
      "source": [
        "DRIVE_PATH = '/gdrive/My Drive/Reddit sarcasm'\n",
        "drive.mount('/gdrive')\n",
        "os.chdir(DRIVE_PATH)"
      ],
      "execution_count": 3,
      "outputs": [
        {
          "output_type": "stream",
          "text": [
            "Mounted at /gdrive\n"
          ],
          "name": "stdout"
        }
      ]
    },
    {
      "cell_type": "code",
      "metadata": {
        "id": "A_G25c4LINkx"
      },
      "source": [
        "DATA_COLUMNS = [\n",
        "    'label',\n",
        "    'comment',\n",
        "    'author',\n",
        "    'subreddit',\n",
        "    'score',\n",
        "    'ups',\n",
        "    'downs',\n",
        "    'date',\n",
        "    'created_utc',\n",
        "    'parent_comment'\n",
        "]\n",
        "\n",
        "full_comments_df = pd.read_csv(\"train-balanced-sarc.csv\", delimiter='\\t', names=DATA_COLUMNS)"
      ],
      "execution_count": 4,
      "outputs": []
    },
    {
      "cell_type": "markdown",
      "metadata": {
        "id": "eqR8bwMI93PU"
      },
      "source": [
        "## Methodology"
      ]
    },
    {
      "cell_type": "markdown",
      "metadata": {
        "id": "ZmnNj35QuNTH"
      },
      "source": [
        "First, let's see the data distributions"
      ]
    },
    {
      "cell_type": "code",
      "metadata": {
        "id": "Ki7ZyPskuWad",
        "outputId": "3c4e53ef-cbbc-4431-823b-182b86638bc0",
        "colab": {
          "base_uri": "https://localhost:8080/",
          "height": 298
        }
      },
      "source": [
        "full_comments_df.plot(kind='hist', y='label', title = 'Labels Distribution')"
      ],
      "execution_count": 5,
      "outputs": [
        {
          "output_type": "execute_result",
          "data": {
            "text/plain": [
              "<matplotlib.axes._subplots.AxesSubplot at 0x7f9b291821d0>"
            ]
          },
          "metadata": {
            "tags": []
          },
          "execution_count": 5
        },
        {
          "output_type": "display_data",
          "data": {
            "image/png": "[encoded data removed]",
            "text/plain": [
              "<Figure size 432x288 with 1 Axes>"
            ]
          },
          "metadata": {
            "tags": [],
            "needs_background": "light"
          }
        }
      ]
    },
    {
      "cell_type": "markdown",
      "metadata": {
        "id": "xp8nmrUIw1XY"
      },
      "source": [
        "The data is balanced with regard to the labels. Therefore, I'll use the accuracy metric to evaluate all future models.\n",
        "\n",
        "I prefer to evaluate all the models based primarily on accuracy. The data is well balanced and there is no actual buisiness problem i'm solving here, so there's not much of a need to specifically avoid either FPs or FNs.\n",
        "\n",
        "I will however keep the precision and recall scores of all models for future reference"
      ]
    },
    {
      "cell_type": "markdown",
      "metadata": {
        "id": "RAad69rm_5O-"
      },
      "source": [
        "#### Train-Validation-Test Split "
      ]
    },
    {
      "cell_type": "markdown",
      "metadata": {
        "id": "1ibCkqKJ88wY"
      },
      "source": [
        "The dataset is quite relatively large with about 1 million comments. For that reason, it is quite reasonable to use only 4% of the data as test and validation sets, since they'll still be 20k each.\n",
        "\n",
        "That way, we'll have lots of data to train on."
      ]
    },
    {
      "cell_type": "code",
      "metadata": {
        "id": "nX7ct9oLXFH2"
      },
      "source": [
        "comments_df_without_labels = full_comments_df.iloc[:, 1:]\n",
        "\n",
        "# We use the same train-test split to test all of the next models\n",
        "df_train, df_test, labels_train, labels_test = train_test_split(comments_df_without_labels,\n",
        "                                                                full_comments_df['label'],\n",
        "                                                                random_state=1,\n",
        "                                                                test_size=0.04,\n",
        "                                                                shuffle=True)\n",
        "\n",
        "df_val, df_test, labels_val, labels_test = train_test_split(df_test,\n",
        "                                                            labels_test,\n",
        "                                                            random_state=5,\n",
        "                                                            test_size=0.5,\n",
        "                                                            shuffle=True)"
      ],
      "execution_count": 34,
      "outputs": []
    },
    {
      "cell_type": "markdown",
      "metadata": {
        "id": "3TgiVb7wNQjc"
      },
      "source": [
        "Let's make sure the validation and test set have similar distributions"
      ]
    },
    {
      "cell_type": "code",
      "metadata": {
        "id": "zSuOoIfwCRko",
        "outputId": "257d1cf8-c4f2-44fb-d3bd-b00e4ef75304",
        "colab": {
          "base_uri": "https://localhost:8080/",
          "height": 297
        }
      },
      "source": [
        "fig, axes = plt.subplots(nrows=1,ncols=2,figsize=(8,4))\n",
        "\n",
        "labels_val.plot.hist(ax = axes[0], title='Validation Labels')\n",
        "labels_test.plot.hist(ax = axes[1], title='Test Labels')\n",
        "fig.tight_layout()"
      ],
      "execution_count": 7,
      "outputs": [
        {
          "output_type": "display_data",
          "data": {
            "image/png": "[encoded data removed]",
            "text/plain": [
              "<Figure size 576x288 with 2 Axes>"
            ]
          },
          "metadata": {
            "tags": [],
            "needs_background": "light"
          }
        }
      ]
    },
    {
      "cell_type": "markdown",
      "metadata": {
        "id": "dnUmivNMFlIC"
      },
      "source": [
        "#### Null handling"
      ]
    },
    {
      "cell_type": "code",
      "metadata": {
        "id": "ZaU1cGgkVTTr",
        "outputId": "daace3b9-15e9-406a-8476-c812c172dc2a",
        "colab": {
          "base_uri": "https://localhost:8080/",
          "height": 204
        }
      },
      "source": [
        "print(\"Nulls in training set:\")\n",
        "df_train.isnull().sum()"
      ],
      "execution_count": 8,
      "outputs": [
        {
          "output_type": "stream",
          "text": [
            "Nulls in training set:\n"
          ],
          "name": "stdout"
        },
        {
          "output_type": "execute_result",
          "data": {
            "text/plain": [
              "comment           51\n",
              "author             0\n",
              "subreddit          0\n",
              "score              0\n",
              "ups                0\n",
              "downs              0\n",
              "date               0\n",
              "created_utc        0\n",
              "parent_comment     0\n",
              "dtype: int64"
            ]
          },
          "metadata": {
            "tags": []
          },
          "execution_count": 8
        }
      ]
    },
    {
      "cell_type": "markdown",
      "metadata": {
        "id": "jlTUZog0s7IZ"
      },
      "source": [
        "Since I don't want to divide and reassemble the data and the labels each time i apply a function to both, i'll simply create a function that applies row based functions to them and handles the dividing and reassembling for me"
      ]
    },
    {
      "cell_type": "code",
      "metadata": {
        "id": "RBZwEjEYdxFj"
      },
      "source": [
        "def handle_row_dropping_functions(df, labels, row_dropping_funcs={}):\n",
        "  \"\"\"\n",
        "  Applies data munging functions that may drop rows in the dataset\n",
        "  This function makes sure the corresponding labels of each dropped row is deleted as well\n",
        "\n",
        "  Parameters\n",
        "  ----------\n",
        "  df : pandas DataFrame\n",
        "      The dataset to apply the functions on\n",
        "  labels : pandas Series\n",
        "      The corresponding labels of the dataset\n",
        "  row_dropping_funcs : Dict\n",
        "      A dictionary containing functions as keys\n",
        "      and any parameters necessary for them (except the df!) as values\n",
        "\n",
        "  Returns\n",
        "  -------\n",
        "  new_df\n",
        "      The recieved DF after being handled the fucntions\n",
        "  new_labels:\n",
        "      The labels for the df, without the dropped rows\n",
        "  \"\"\"\n",
        "\n",
        "  # Combine data and labels based on their index\n",
        "  new_df = df.copy()\n",
        "  new_labels = labels.copy()\n",
        "  new_df['label'] = new_labels\n",
        "  \n",
        "  # Apply row dropping functions\n",
        "  for row_dropping_func, func_params in row_dropping_funcs.items():\n",
        "    func_params['df'] = new_df\n",
        "    new_df = row_dropping_func(**func_params)\n",
        "  \n",
        "  # Return the updated datasets as they were before\n",
        "  new_labels = new_df['label']\n",
        "  new_df = new_df.drop(columns = ['label'])\n",
        "\n",
        "  return new_df, new_labels"
      ],
      "execution_count": 9,
      "outputs": []
    },
    {
      "cell_type": "code",
      "metadata": {
        "id": "F-cgrlu4OKxT"
      },
      "source": [
        "def handle_nulls(**kwargs):\n",
        "  \"\"\"\n",
        "  Returns the df without rows where some columns are null\n",
        "  Right now could have been done without a function,\n",
        "  but useful for encapsulating more complex null handling situations in the future\n",
        "\n",
        "  Parameters\n",
        "  ----------\n",
        "  df : pandas DataFrame\n",
        "      The dataset to drop NaNs from\n",
        "  unfixable_columns : list\n",
        "      The columns that need to be dropped if empty (default is an empty list)\n",
        "\n",
        "  Returns\n",
        "  -------\n",
        "  new_df\n",
        "      The recieved DF but with rows without null columns\n",
        "  \"\"\"\n",
        "\n",
        "  new_df = kwargs['df'].copy()\n",
        "  new_df = new_df.dropna(subset = kwargs['unfixable_columns'])\n",
        "  return new_df"
      ],
      "execution_count": 10,
      "outputs": []
    },
    {
      "cell_type": "code",
      "metadata": {
        "id": "RbwwENfYdATn",
        "outputId": "3fc604d0-89aa-4796-ef47-7df16c635ad3",
        "colab": {
          "base_uri": "https://localhost:8080/",
          "height": 187
        }
      },
      "source": [
        "# If the value of these columns is null, drop the row \n",
        "COLUMNS_TO_DROP_BY = ['comment']\n",
        "\n",
        "row_dropping_funcs = {\n",
        "    handle_nulls: { 'unfixable_columns': COLUMNS_TO_DROP_BY }\n",
        "    }\n",
        "\n",
        "df_train, labels_train = handle_row_dropping_functions(df_train, labels_train, row_dropping_funcs)\n",
        "\n",
        "df_train.isnull().sum()"
      ],
      "execution_count": 35,
      "outputs": [
        {
          "output_type": "execute_result",
          "data": {
            "text/plain": [
              "comment           0\n",
              "author            0\n",
              "subreddit         0\n",
              "score             0\n",
              "ups               0\n",
              "downs             0\n",
              "date              0\n",
              "created_utc       0\n",
              "parent_comment    0\n",
              "dtype: int64"
            ]
          },
          "metadata": {
            "tags": []
          },
          "execution_count": 35
        }
      ]
    },
    {
      "cell_type": "markdown",
      "metadata": {
        "id": "NeT_OluY8I3G"
      },
      "source": [
        "#### Text cleaning - Comments only\n",
        "\n",
        "For starters, i'll only explore the comments themselves to see how much sarcasm can be inferred from the text alone.\n",
        "\n",
        "Later on i'll start engineering more features from the rest of the data to see how much the context matters for inferring sarcasm with this data"
      ]
    },
    {
      "cell_type": "markdown",
      "metadata": {
        "id": "DPlExkPR9pfX"
      },
      "source": [
        "Let's look at a sample from the text to see what we're handling with"
      ]
    },
    {
      "cell_type": "code",
      "metadata": {
        "id": "JOqAE9M28NM_",
        "outputId": "2c19656c-1dc2-4a3f-e8cb-2fe08efc044c",
        "colab": {
          "base_uri": "https://localhost:8080/",
          "height": 187
        }
      },
      "source": [
        "for index, text in enumerate(df_train['comment'][35:40]):\n",
        "  print('Comment {}:\\n {}'.format(index+1, text))"
      ],
      "execution_count": 31,
      "outputs": [
        {
          "output_type": "stream",
          "text": [
            "Comment 1:\n",
            " That Stormtrooper pumpkin looks awesome!\n",
            "Comment 2:\n",
            " Yeah, Barry will let this slide.\n",
            "Comment 3:\n",
            " Uh oh, Trigga Trey gonna get some revenge.\n",
            "Comment 4:\n",
            " fuck your opinion\n",
            "Comment 5:\n",
            " we know, but not to loud or the wackos will catch on\n"
          ],
          "name": "stdout"
        }
      ]
    },
    {
      "cell_type": "code",
      "metadata": {
        "id": "-z37Wec8J4Hi",
        "outputId": "1fc85821-5fa1-4621-96e0-af7c95806d0d",
        "colab": {
          "base_uri": "https://localhost:8080/",
          "height": 340
        }
      },
      "source": [
        "df_train.head()"
      ],
      "execution_count": 13,
      "outputs": [
        {
          "output_type": "execute_result",
          "data": {
            "text/html": [
              "<div>\n",
              "<style scoped>\n",
              "    .dataframe tbody tr th:only-of-type {\n",
              "        vertical-align: middle;\n",
              "    }\n",
              "\n",
              "    .dataframe tbody tr th {\n",
              "        vertical-align: top;\n",
              "    }\n",
              "\n",
              "    .dataframe thead th {\n",
              "        text-align: right;\n",
              "    }\n",
              "</style>\n",
              "<table border=\"1\" class=\"dataframe\">\n",
              "  <thead>\n",
              "    <tr style=\"text-align: right;\">\n",
              "      <th></th>\n",
              "      <th>comment</th>\n",
              "      <th>author</th>\n",
              "      <th>subreddit</th>\n",
              "      <th>score</th>\n",
              "      <th>ups</th>\n",
              "      <th>downs</th>\n",
              "      <th>date</th>\n",
              "      <th>created_utc</th>\n",
              "      <th>parent_comment</th>\n",
              "    </tr>\n",
              "  </thead>\n",
              "  <tbody>\n",
              "    <tr>\n",
              "      <th>62983</th>\n",
              "      <td>Agree with ya, it runs better on my 6years old...</td>\n",
              "      <td>GFlunk</td>\n",
              "      <td>PS3</td>\n",
              "      <td>1</td>\n",
              "      <td>1</td>\n",
              "      <td>0</td>\n",
              "      <td>2016-09</td>\n",
              "      <td>1474168109</td>\n",
              "      <td>I have that one. It sucks.</td>\n",
              "    </tr>\n",
              "    <tr>\n",
              "      <th>630544</th>\n",
              "      <td>Yeah, she works me like a rented mule every mo...</td>\n",
              "      <td>comaboy13</td>\n",
              "      <td>MMA</td>\n",
              "      <td>1</td>\n",
              "      <td>1</td>\n",
              "      <td>0</td>\n",
              "      <td>2015-07</td>\n",
              "      <td>1436594373</td>\n",
              "      <td>That's really good to know, she'll need it if ...</td>\n",
              "    </tr>\n",
              "    <tr>\n",
              "      <th>953886</th>\n",
              "      <td>Context?</td>\n",
              "      <td>BigBud77</td>\n",
              "      <td>pics</td>\n",
              "      <td>2</td>\n",
              "      <td>2</td>\n",
              "      <td>0</td>\n",
              "      <td>2013-05</td>\n",
              "      <td>1367543886</td>\n",
              "      <td>His best friend left today. Not sure if they w...</td>\n",
              "    </tr>\n",
              "    <tr>\n",
              "      <th>287968</th>\n",
              "      <td>Better quality and without this shit music on ...</td>\n",
              "      <td>Superdraw</td>\n",
              "      <td>formula1</td>\n",
              "      <td>1</td>\n",
              "      <td>1</td>\n",
              "      <td>0</td>\n",
              "      <td>2016-05</td>\n",
              "      <td>1462484952</td>\n",
              "      <td>Albers pulls off an a stunning move (Estoril 2...</td>\n",
              "    </tr>\n",
              "    <tr>\n",
              "      <th>972967</th>\n",
              "      <td>I'm so glad some redditors have taken it upon ...</td>\n",
              "      <td>BuyABowel</td>\n",
              "      <td>MensRights</td>\n",
              "      <td>3</td>\n",
              "      <td>3</td>\n",
              "      <td>0</td>\n",
              "      <td>2012-03</td>\n",
              "      <td>1331746883</td>\n",
              "      <td>Explanation requested in AskReddit about r/men...</td>\n",
              "    </tr>\n",
              "  </tbody>\n",
              "</table>\n",
              "</div>"
            ],
            "text/plain": [
              "                                                  comment  ...                                     parent_comment\n",
              "62983   Agree with ya, it runs better on my 6years old...  ...                         I have that one. It sucks.\n",
              "630544  Yeah, she works me like a rented mule every mo...  ...  That's really good to know, she'll need it if ...\n",
              "953886                                           Context?  ...  His best friend left today. Not sure if they w...\n",
              "287968  Better quality and without this shit music on ...  ...  Albers pulls off an a stunning move (Estoril 2...\n",
              "972967  I'm so glad some redditors have taken it upon ...  ...  Explanation requested in AskReddit about r/men...\n",
              "\n",
              "[5 rows x 9 columns]"
            ]
          },
          "metadata": {
            "tags": []
          },
          "execution_count": 13
        }
      ]
    },
    {
      "cell_type": "code",
      "metadata": {
        "id": "IAv1n5EEVHLX"
      },
      "source": [
        "NLP_ENGINES = {\n",
        "    'simple' : spacy.load(\"en_core_web_sm\", disable=['tagger', 'parser', 'ner']),\n",
        "    'POSs_and_deps' : spacy.load(\"en_core_web_sm\", disable=['ner'])\n",
        "}"
      ],
      "execution_count": 14,
      "outputs": []
    },
    {
      "cell_type": "code",
      "metadata": {
        "id": "Jjy2NRjl3SST"
      },
      "source": [
        "def tokenize_and_clean_text(doc):\n",
        "  tokenized_processed_text = []\n",
        "  for token in doc:\n",
        "    cleaned_text = token.text.lower()\n",
        "    if token.is_currency:\n",
        "      cleaned_text = clean(cleaned_text, no_currency_symbols = True)\n",
        "    if token.is_digit:\n",
        "      cleaned_text = clean(cleaned_text, no_numbers = True)\n",
        "    if token.like_email:\n",
        "      cleaned_text = clean(cleaned_text, no_emails = True)\n",
        "    if token.like_url:\n",
        "      cleaned_text = clean(cleaned_text, no_urls = True)\n",
        "    tokenized_processed_text.append(cleaned_text)\n",
        "\n",
        "  return tokenized_processed_text"
      ],
      "execution_count": 15,
      "outputs": []
    },
    {
      "cell_type": "code",
      "metadata": {
        "id": "weaHzGQSNi0V"
      },
      "source": [
        "def simple_text_processing(text):\n",
        "  # spaCy will only handle contractions and will just tokenize the data in general\n",
        "  nlp_engine = NLP_ENGINES['simple']\n",
        "  doc = nlp_engine(text)\n",
        "\n",
        "  return tokenize_and_clean_text(doc)"
      ],
      "execution_count": 16,
      "outputs": []
    },
    {
      "cell_type": "code",
      "metadata": {
        "id": "q5cNehPtPlgU"
      },
      "source": [
        "%%time\n",
        "# This takes 9 minutes to run, so i just saved a ready copy of it in a seperate file\n",
        "#df_train['processed comment'] = df_train['comment'].apply(lambda comment: simple_text_processing(comment))"
      ],
      "execution_count": null,
      "outputs": []
    },
    {
      "cell_type": "code",
      "metadata": {
        "id": "pi8rWohS7ULG",
        "outputId": "ad89e894-1199-450e-fff7-0db590263b02",
        "colab": {
          "base_uri": "https://localhost:8080/",
          "height": 493
        }
      },
      "source": [
        "df_train_processed = pd.read_csv('POSs_and_deps_for_train_state_1.csv', usecols = ['processed comment'])\n",
        "df_train_processed.index = df_train.index\n",
        "df_train = df_train.merge(df_train_processed, how='left', left_index = True, right_index = True) \n",
        "df_train.head()"
      ],
      "execution_count": 36,
      "outputs": [
        {
          "output_type": "execute_result",
          "data": {
            "text/html": [
              "<div>\n",
              "<style scoped>\n",
              "    .dataframe tbody tr th:only-of-type {\n",
              "        vertical-align: middle;\n",
              "    }\n",
              "\n",
              "    .dataframe tbody tr th {\n",
              "        vertical-align: top;\n",
              "    }\n",
              "\n",
              "    .dataframe thead th {\n",
              "        text-align: right;\n",
              "    }\n",
              "</style>\n",
              "<table border=\"1\" class=\"dataframe\">\n",
              "  <thead>\n",
              "    <tr style=\"text-align: right;\">\n",
              "      <th></th>\n",
              "      <th>comment</th>\n",
              "      <th>author</th>\n",
              "      <th>subreddit</th>\n",
              "      <th>score</th>\n",
              "      <th>ups</th>\n",
              "      <th>downs</th>\n",
              "      <th>date</th>\n",
              "      <th>created_utc</th>\n",
              "      <th>parent_comment</th>\n",
              "      <th>processed comment</th>\n",
              "    </tr>\n",
              "  </thead>\n",
              "  <tbody>\n",
              "    <tr>\n",
              "      <th>62983</th>\n",
              "      <td>Agree with ya, it runs better on my 6years old...</td>\n",
              "      <td>GFlunk</td>\n",
              "      <td>PS3</td>\n",
              "      <td>1</td>\n",
              "      <td>1</td>\n",
              "      <td>0</td>\n",
              "      <td>2016-09</td>\n",
              "      <td>1474168109</td>\n",
              "      <td>I have that one. It sucks.</td>\n",
              "      <td>['agree', 'with', 'ya', ',', 'it', 'runs', 'be...</td>\n",
              "    </tr>\n",
              "    <tr>\n",
              "      <th>630544</th>\n",
              "      <td>Yeah, she works me like a rented mule every mo...</td>\n",
              "      <td>comaboy13</td>\n",
              "      <td>MMA</td>\n",
              "      <td>1</td>\n",
              "      <td>1</td>\n",
              "      <td>0</td>\n",
              "      <td>2015-07</td>\n",
              "      <td>1436594373</td>\n",
              "      <td>That's really good to know, she'll need it if ...</td>\n",
              "      <td>['yeah', ',', 'she', 'works', 'me', 'like', 'a...</td>\n",
              "    </tr>\n",
              "    <tr>\n",
              "      <th>953886</th>\n",
              "      <td>Context?</td>\n",
              "      <td>BigBud77</td>\n",
              "      <td>pics</td>\n",
              "      <td>2</td>\n",
              "      <td>2</td>\n",
              "      <td>0</td>\n",
              "      <td>2013-05</td>\n",
              "      <td>1367543886</td>\n",
              "      <td>His best friend left today. Not sure if they w...</td>\n",
              "      <td>['context', '?']</td>\n",
              "    </tr>\n",
              "    <tr>\n",
              "      <th>287968</th>\n",
              "      <td>Better quality and without this shit music on ...</td>\n",
              "      <td>Superdraw</td>\n",
              "      <td>formula1</td>\n",
              "      <td>1</td>\n",
              "      <td>1</td>\n",
              "      <td>0</td>\n",
              "      <td>2016-05</td>\n",
              "      <td>1462484952</td>\n",
              "      <td>Albers pulls off an a stunning move (Estoril 2...</td>\n",
              "      <td>['better', 'quality', 'and', 'without', 'this'...</td>\n",
              "    </tr>\n",
              "    <tr>\n",
              "      <th>972967</th>\n",
              "      <td>I'm so glad some redditors have taken it upon ...</td>\n",
              "      <td>BuyABowel</td>\n",
              "      <td>MensRights</td>\n",
              "      <td>3</td>\n",
              "      <td>3</td>\n",
              "      <td>0</td>\n",
              "      <td>2012-03</td>\n",
              "      <td>1331746883</td>\n",
              "      <td>Explanation requested in AskReddit about r/men...</td>\n",
              "      <td>['i', \"'m\", 'so', 'glad', 'some', 'redditors',...</td>\n",
              "    </tr>\n",
              "  </tbody>\n",
              "</table>\n",
              "</div>"
            ],
            "text/plain": [
              "                                                  comment  ...                                  processed comment\n",
              "62983   Agree with ya, it runs better on my 6years old...  ...  ['agree', 'with', 'ya', ',', 'it', 'runs', 'be...\n",
              "630544  Yeah, she works me like a rented mule every mo...  ...  ['yeah', ',', 'she', 'works', 'me', 'like', 'a...\n",
              "953886                                           Context?  ...                                   ['context', '?']\n",
              "287968  Better quality and without this shit music on ...  ...  ['better', 'quality', 'and', 'without', 'this'...\n",
              "972967  I'm so glad some redditors have taken it upon ...  ...  ['i', \"'m\", 'so', 'glad', 'some', 'redditors',...\n",
              "\n",
              "[5 rows x 10 columns]"
            ]
          },
          "metadata": {
            "tags": []
          },
          "execution_count": 36
        }
      ]
    },
    {
      "cell_type": "code",
      "metadata": {
        "id": "g2KdKs6XXXHP",
        "outputId": "49c43320-8699-473f-c7ba-aaea624e728b",
        "colab": {
          "base_uri": "https://localhost:8080/",
          "height": 187
        }
      },
      "source": [
        "for index, text in enumerate(df_train['processed comment'][35:40]):\n",
        "  print('Comment {}:\\n {}'.format(index+1, text))"
      ],
      "execution_count": 37,
      "outputs": [
        {
          "output_type": "stream",
          "text": [
            "Comment 1:\n",
            " ['that', 'stormtrooper', 'pumpkin', 'looks', 'awesome', '!']\n",
            "Comment 2:\n",
            " ['yeah', ',', 'barry', 'will', 'let', 'this', 'slide', '.']\n",
            "Comment 3:\n",
            " ['uh', 'oh', ',', 'trigga', 'trey', 'gon', 'na', 'get', 'some', 'revenge', '.']\n",
            "Comment 4:\n",
            " ['fuck', 'your', 'opinion']\n",
            "Comment 5:\n",
            " ['we', 'know', ',', 'but', 'not', 'to', 'loud', 'or', 'the', 'wackos', 'will', 'catch', 'on']\n"
          ],
          "name": "stdout"
        }
      ]
    },
    {
      "cell_type": "markdown",
      "metadata": {
        "id": "hEskcbTYJfqH"
      },
      "source": [
        "# Model Research Process - Comments Only"
      ]
    },
    {
      "cell_type": "markdown",
      "metadata": {
        "id": "oFvpouHVJjG7"
      },
      "source": [
        "## We begin our research by trying out a basic logistic regression model with different feature sets\n",
        "\n"
      ]
    },
    {
      "cell_type": "markdown",
      "metadata": {
        "id": "IhCmO3fvV3lE"
      },
      "source": [
        "### First, a relatively primitive count vectorizer of the comments"
      ]
    },
    {
      "cell_type": "code",
      "metadata": {
        "id": "961AIbjXWYpT"
      },
      "source": [
        "ctv = CountVectorizer()\n",
        "lr_ctv_clf = LogisticRegression(solver='saga', C=1, n_jobs=-1, verbose=False)\n",
        "ctv_logit_pipeline = Pipeline([('counter', ctv), \n",
        "                               ('logitRegressor', lr_ctv_clf)])"
      ],
      "execution_count": null,
      "outputs": []
    },
    {
      "cell_type": "code",
      "metadata": {
        "id": "79CZ5F5UWZ_Z"
      },
      "source": [
        "%%time\n",
        "ctv_logit_pipeline.fit(df_train, labels_train)"
      ],
      "execution_count": null,
      "outputs": []
    },
    {
      "cell_type": "code",
      "metadata": {
        "id": "ZrADpSmwWzsb"
      },
      "source": [
        "predictions = ctv_logit_pipeline.predict_proba(df_test)\n",
        "print (\"accuracy: %0.3f \" % ctv_logit_pipeline.score(df_test, labels_test))"
      ],
      "execution_count": null,
      "outputs": []
    },
    {
      "cell_type": "markdown",
      "metadata": {
        "id": "1hBZQyhDXZqV"
      },
      "source": [
        "### We also test a basic tf-idf vector"
      ]
    },
    {
      "cell_type": "code",
      "metadata": {
        "id": "1UkKmNJ8KytE"
      },
      "source": [
        "# We'll first try to create a simple baseline model\n",
        "# Our baseline model will be a logistic regression model, which we'll train on the unigram tf_idf vectors of the original comments text \n",
        "tfv = TfidfVectorizer()\n",
        "\n",
        "tfidf_logit_pipeline = Pipeline([('tf_idf', tfv), \n",
        "                                 ('logitRegressor', lr_tfv_clf)])\n",
        "lr_tfv_clf = LogisticRegression(solver='saga')"
      ],
      "execution_count": null,
      "outputs": []
    },
    {
      "cell_type": "code",
      "metadata": {
        "id": "mbcU2CtBlLGa"
      },
      "source": [
        "%%time\n",
        "tfidf_logit_pipeline.fit(df_train, labels_train)"
      ],
      "execution_count": null,
      "outputs": []
    },
    {
      "cell_type": "code",
      "metadata": {
        "id": "YkaRSFgSlNh0"
      },
      "source": [
        "predictions = lr_tfv_clf.predict_proba(df_test)\n",
        "\n",
        "print (\"logloss: %0.3f \" % log_loss(labels_test, predictions))\n",
        "print (\"accuracy: %0.3f \" % lr_tfv_clf.score(df_test, labels_test))"
      ],
      "execution_count": null,
      "outputs": []
    },
    {
      "cell_type": "markdown",
      "metadata": {
        "id": "LJY5hYrFXgrG"
      },
      "source": [
        "### We try a more sophisticated tf-idf vector"
      ]
    },
    {
      "cell_type": "code",
      "metadata": {
        "id": "VDp5qv7mLQaq"
      },
      "source": [
        "# Now let's try to run the same model, but on a more sophisticated tf-idf \n",
        "# This vectorizor is trained on both unigrams and bigrams, and only considers words that were used at least twice\n",
        "tfv = TfidfVectorizer(ngram_range=(1, 2), min_df=2)\n",
        "lr_tfv_clf = LogisticRegression(solver='saga', C=1, n_jobs=4, verbose=0)\n",
        "tfidf_logit_pipeline = Pipeline([('tf_idf', tfv), \n",
        "                                 ('logitRegressor', lr_tfv_clf)])"
      ],
      "execution_count": null,
      "outputs": []
    },
    {
      "cell_type": "code",
      "metadata": {
        "id": "-BmVM_nWVEjb"
      },
      "source": [
        "%%time\n",
        "tfidf_logit_pipeline.fit(df_train, labels_train)"
      ],
      "execution_count": null,
      "outputs": []
    },
    {
      "cell_type": "code",
      "metadata": {
        "id": "eefMkLZWVGDB"
      },
      "source": [
        "# This model gave us the best performance for this part of the research\n",
        "predictions = tfidf_logit_pipeline.predict_proba(df_test)\n",
        "print (\"logloss: %0.3f \" % log_loss(labels_test, predictions))\n",
        "print (\"accuracy: %0.3f \" % tfidf_logit_pipeline.score(df_test, labels_test))"
      ],
      "execution_count": null,
      "outputs": []
    },
    {
      "cell_type": "code",
      "metadata": {
        "id": "fqOkWA0NVTBI"
      },
      "source": [
        "# Because it was te best model we tried to understand better what affected his performance\n",
        "eli5.show_weights(estimator=tfidf_logit_pipeline.named_steps['logitRegressor'],\n",
        "                  vec=tfidf_logit_pipeline.named_steps['tf_idf'])"
      ],
      "execution_count": null,
      "outputs": []
    },
    {
      "cell_type": "markdown",
      "metadata": {
        "id": "J5l8ZFfFVnTz"
      },
      "source": [
        "### We theorize that certain pos tags could be strong indicators of sarcasm"
      ]
    },
    {
      "cell_type": "code",
      "metadata": {
        "id": "38zBk3a5ZZrC"
      },
      "source": [
        "# !python -m spacy download en_core_web_lg\n",
        "nlp = spacy.load('en_core_web_lg', disable=['parser', 'ner', 'textcat'])"
      ],
      "execution_count": null,
      "outputs": []
    },
    {
      "cell_type": "code",
      "metadata": {
        "id": "iRUCqQauaDzU"
      },
      "source": [
        "comments_pos_tags = []\n",
        "print('Parsing pos tags...')\n",
        "parsed_comments = [nlp(comment) for comment in tqdm(comments)]\n",
        "for parsed_comment in parsed_comments:\n",
        "  comment_pos_tags = []\n",
        "  for word in parsed_comment:\n",
        "    comment_pos_tags.append(word.tag_)\n",
        "  comments_pos_tags.append(' '.join(comment_pos_tags))"
      ],
      "execution_count": null,
      "outputs": []
    },
    {
      "cell_type": "code",
      "metadata": {
        "id": "vWK-jL7rZUqy"
      },
      "source": [
        "# Now let's try to run the same model, but on a more sophisticated tf-idf \n",
        "tfv = TfidfVectorizer(ngram_range=(1, 2), min_df=2)\n",
        "lr_tfv_clf = LogisticRegression(solver='saga', C=1, n_jobs=4, verbose=0)\n",
        "tfidf_logit_pipeline = Pipeline([('tf_idf', tfv), \n",
        "                                 ('logitRegressor', lr_tfv_clf)])\n",
        "\n",
        "# This vectorizor is trained on both unigrams and bigrams, and only considers words that were used at least twice\n",
        "df_train, df_test, labels_train, labels_test = train_test_split(comments_pos_tags,\n",
        "                                                    full_labels,\n",
        "                                                    random_state=1,\n",
        "                                                    test_size=0.2,\n",
        "                                                    shuffle=True)"
      ],
      "execution_count": null,
      "outputs": []
    },
    {
      "cell_type": "code",
      "metadata": {
        "id": "AjZJL0AHZ9wV"
      },
      "source": [
        "%%time\n",
        "tfidf_logit_pipeline.fit(df_train, labels_train)"
      ],
      "execution_count": null,
      "outputs": []
    },
    {
      "cell_type": "code",
      "metadata": {
        "id": "3GO5wWHeZ-Pf"
      },
      "source": [
        "predictions = tfidf_logit_pipeline.predict_proba(df_test)\n",
        "print (\"logloss: %0.3f \" % log_loss(labels_test, predictions))\n",
        "print (\"accuracy: %0.3f \" % tfidf_logit_pipeline.score(df_test, labels_test))\n",
        "\n",
        "# As it seems, using the plain pos tags as replacements of the words, loses some vital information for the classification\n",
        "eli5.show_weights(estimator=tfidf_logit_pipeline.named_steps['logitRegressor'],\n",
        "                  vec=tfidf_logit_pipeline.named_steps['tf_idf'])"
      ],
      "execution_count": null,
      "outputs": []
    }
  ]
}