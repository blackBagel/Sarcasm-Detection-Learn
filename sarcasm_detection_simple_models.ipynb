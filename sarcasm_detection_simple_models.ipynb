{
  "nbformat": 4,
  "nbformat_minor": 0,
  "metadata": {
    "colab": {
      "name": "sarcasm_detection-simple_models.ipynb",
      "provenance": [],
      "collapsed_sections": [
        "IhCmO3fvV3lE",
        "1hBZQyhDXZqV",
        "LJY5hYrFXgrG"
      ],
      "include_colab_link": true
    },
    "kernelspec": {
      "display_name": "Python 3",
      "language": "python",
      "name": "python3"
    },
    "language_info": {
      "codemirror_mode": {
        "name": "ipython",
        "version": 3
      },
      "file_extension": ".py",
      "mimetype": "text/x-python",
      "name": "python",
      "nbconvert_exporter": "python",
      "pygments_lexer": "ipython3",
      "version": "3.6.8"
    },
    "accelerator": "GPU"
  },
  "cells": [
    {
      "cell_type": "markdown",
      "metadata": {
        "id": "view-in-github",
        "colab_type": "text"
      },
      "source": [
        "<a href=\"https://colab.research.google.com/github/blackBagel/Sarcasm-Detection-Learn/blob/main/sarcasm_detection_simple_models.ipynb\" target=\"_parent\"><img src=\"https://colab.research.google.com/assets/colab-badge.svg\" alt=\"Open In Colab\"/></a>"
      ]
    },
    {
      "cell_type": "code",
      "metadata": {
        "id": "mqllYLjHrLXf",
        "outputId": "0d5f21da-e3b5-4707-cde2-3fd1f795c269",
        "colab": {
          "base_uri": "https://localhost:8080/",
          "height": 292
        }
      },
      "source": [
        "! pip install -U eli5 clean-text"
      ],
      "execution_count": 58,
      "outputs": [
        {
          "output_type": "stream",
          "text": [
            "Requirement already up-to-date: eli5 in /usr/local/lib/python3.6/dist-packages (0.10.1)\n",
            "Requirement already up-to-date: clean-text in /usr/local/lib/python3.6/dist-packages (0.3.0)\n",
            "Requirement already satisfied, skipping upgrade: six in /usr/local/lib/python3.6/dist-packages (from eli5) (1.15.0)\n",
            "Requirement already satisfied, skipping upgrade: graphviz in /usr/local/lib/python3.6/dist-packages (from eli5) (0.10.1)\n",
            "Requirement already satisfied, skipping upgrade: attrs>16.0.0 in /usr/local/lib/python3.6/dist-packages (from eli5) (20.2.0)\n",
            "Requirement already satisfied, skipping upgrade: numpy>=1.9.0 in /usr/local/lib/python3.6/dist-packages (from eli5) (1.18.5)\n",
            "Requirement already satisfied, skipping upgrade: tabulate>=0.7.7 in /usr/local/lib/python3.6/dist-packages (from eli5) (0.8.7)\n",
            "Requirement already satisfied, skipping upgrade: scipy in /usr/local/lib/python3.6/dist-packages (from eli5) (1.4.1)\n",
            "Requirement already satisfied, skipping upgrade: scikit-learn>=0.18 in /usr/local/lib/python3.6/dist-packages (from eli5) (0.22.2.post1)\n",
            "Requirement already satisfied, skipping upgrade: jinja2 in /usr/local/lib/python3.6/dist-packages (from eli5) (2.11.2)\n",
            "Requirement already satisfied, skipping upgrade: ftfy<6.0,>=5.8 in /usr/local/lib/python3.6/dist-packages (from clean-text) (5.8)\n",
            "Requirement already satisfied, skipping upgrade: emoji in /usr/local/lib/python3.6/dist-packages (from clean-text) (0.6.0)\n",
            "Requirement already satisfied, skipping upgrade: joblib>=0.11 in /usr/local/lib/python3.6/dist-packages (from scikit-learn>=0.18->eli5) (0.16.0)\n",
            "Requirement already satisfied, skipping upgrade: MarkupSafe>=0.23 in /usr/local/lib/python3.6/dist-packages (from jinja2->eli5) (1.1.1)\n",
            "Requirement already satisfied, skipping upgrade: wcwidth in /usr/local/lib/python3.6/dist-packages (from ftfy<6.0,>=5.8->clean-text) (0.2.5)\n"
          ],
          "name": "stdout"
        }
      ]
    },
    {
      "cell_type": "code",
      "metadata": {
        "id": "E3Azf7jp10cF"
      },
      "source": [
        "from __future__ import print_function\n",
        "import pandas as pd\n",
        "import numpy as np\n",
        "import os\n",
        "from google.colab import drive\n",
        "from tqdm import tqdm\n",
        "import spacy\n",
        "import re\n",
        "from cleantext import clean\n",
        "from joblib import Parallel, delayed\n",
        "\n",
        "from sklearn.model_selection import train_test_split\n",
        "from sklearn import preprocessing, decomposition, model_selection, pipeline\n",
        "from sklearn.feature_extraction.text import TfidfVectorizer, CountVectorizer\n",
        "from sklearn.linear_model import LogisticRegression\n",
        "from sklearn.metrics import accuracy_score, precision_score, recall_score\n",
        "from sklearn.pipeline import Pipeline\n",
        "from sklearn.compose import ColumnTransformer\n",
        "from sklearn.decomposition import TruncatedSVD\n",
        "\n",
        "from sklearn.svm import SVC\n",
        "from sklearn.ensemble import RandomForestClassifier\n",
        "from xgboost import XGBClassifier\n",
        "from lightgbm import LGBMClassifier\n",
        "\n",
        "import eli5\n",
        "import pickle\n",
        "from time import perf_counter\n",
        "import matplotlib.pyplot as plt\n",
        "%matplotlib inline"
      ],
      "execution_count": 59,
      "outputs": []
    },
    {
      "cell_type": "markdown",
      "metadata": {
        "id": "vo17lJdKI2U3"
      },
      "source": [
        "# Data preparation"
      ]
    },
    {
      "cell_type": "code",
      "metadata": {
        "id": "YwDkTHa3IXTV",
        "outputId": "96e4853c-58ce-4a9e-ea92-562e283383c0",
        "colab": {
          "base_uri": "https://localhost:8080/",
          "height": 34
        }
      },
      "source": [
        "DRIVE_PATH = '/gdrive/My Drive/Reddit sarcasm'\n",
        "drive.mount('/gdrive')\n",
        "os.chdir(DRIVE_PATH)"
      ],
      "execution_count": 60,
      "outputs": [
        {
          "output_type": "stream",
          "text": [
            "Drive already mounted at /gdrive; to attempt to forcibly remount, call drive.mount(\"/gdrive\", force_remount=True).\n"
          ],
          "name": "stdout"
        }
      ]
    },
    {
      "cell_type": "code",
      "metadata": {
        "id": "A_G25c4LINkx"
      },
      "source": [
        "DATA_COLUMNS = [\n",
        "    'label',\n",
        "    'comment',\n",
        "    'author',\n",
        "    'subreddit',\n",
        "    'score',\n",
        "    'ups',\n",
        "    'downs',\n",
        "    'date',\n",
        "    'created_utc',\n",
        "    'parent_comment'\n",
        "]\n",
        "\n",
        "full_comments_df = pd.read_csv(\"train-balanced-sarc.csv\", delimiter='\\t', names=DATA_COLUMNS)"
      ],
      "execution_count": 61,
      "outputs": []
    },
    {
      "cell_type": "markdown",
      "metadata": {
        "id": "eqR8bwMI93PU"
      },
      "source": [
        "## Methodology"
      ]
    },
    {
      "cell_type": "markdown",
      "metadata": {
        "id": "ZmnNj35QuNTH"
      },
      "source": [
        "First, let's see the data distributions"
      ]
    },
    {
      "cell_type": "code",
      "metadata": {
        "id": "Ki7ZyPskuWad",
        "outputId": "a9aa3d75-ab2a-4b67-887e-72b146d3b539",
        "colab": {
          "base_uri": "https://localhost:8080/",
          "height": 298
        }
      },
      "source": [
        "full_comments_df.plot(kind='hist', y='label', title = 'Labels Distribution')"
      ],
      "execution_count": 62,
      "outputs": [
        {
          "output_type": "execute_result",
          "data": {
            "text/plain": [
              "<matplotlib.axes._subplots.AxesSubplot at 0x7f5c0afcba20>"
            ]
          },
          "metadata": {
            "tags": []
          },
          "execution_count": 62
        },
        {
          "output_type": "display_data",
          "data": {
            "image/png": "[encoded data removed]",
            "text/plain": [
              "<Figure size 432x288 with 1 Axes>"
            ]
          },
          "metadata": {
            "tags": [],
            "needs_background": "light"
          }
        }
      ]
    },
    {
      "cell_type": "markdown",
      "metadata": {
        "id": "xp8nmrUIw1XY"
      },
      "source": [
        "The data is balanced with regard to the labels. Therefore, I'll use the accuracy metric to evaluate all future models.\n",
        "\n",
        "I prefer to evaluate all the models based primarily on accuracy. The data is well balanced and there is no actual buisiness problem i'm solving here, so there's not much of a need to specifically avoid either FPs or FNs.\n",
        "\n",
        "I will however keep the precision and recall scores of all models for future reference"
      ]
    },
    {
      "cell_type": "markdown",
      "metadata": {
        "id": "RAad69rm_5O-"
      },
      "source": [
        "#### Train-Validation-Test Split "
      ]
    },
    {
      "cell_type": "markdown",
      "metadata": {
        "id": "1ibCkqKJ88wY"
      },
      "source": [
        "The dataset is quite relatively large with about 1 million comments. For that reason, it is quite reasonable to use only 4% of the data as test and validation sets, since they'll still be 20k each.\n",
        "\n",
        "That way, we'll have lots of data to train on."
      ]
    },
    {
      "cell_type": "code",
      "metadata": {
        "id": "nX7ct9oLXFH2"
      },
      "source": [
        "TRAIN_TEST_RAND_STATE = 1\n",
        "VAL_TEST_RAND_STATE = 5\n",
        "TRAIN_TEST_SPLIT = 0.04\n",
        "VAL_TEST_SPLIT = 0.5\n",
        "\n",
        "comments_df_without_labels = full_comments_df.iloc[:, 1:]\n",
        "\n",
        "# We use the same train-test split to test all of the next models\n",
        "df_train, df_test, labels_train, labels_test = train_test_split(comments_df_without_labels,\n",
        "                                                                full_comments_df['label'],\n",
        "                                                                random_state=TRAIN_TEST_RAND_STATE,\n",
        "                                                                test_size=TRAIN_TEST_SPLIT,\n",
        "                                                                shuffle=True)\n",
        "\n",
        "df_val, df_test, labels_val, labels_test = train_test_split(df_test,\n",
        "                                                            labels_test,\n",
        "                                                            random_state=VAL_TEST_RAND_STATE,\n",
        "                                                            test_size=VAL_TEST_SPLIT,\n",
        "                                                            shuffle=True)"
      ],
      "execution_count": 63,
      "outputs": []
    },
    {
      "cell_type": "markdown",
      "metadata": {
        "id": "3TgiVb7wNQjc"
      },
      "source": [
        "Let's make sure the validation and test set have similar distributions"
      ]
    },
    {
      "cell_type": "code",
      "metadata": {
        "id": "zSuOoIfwCRko",
        "outputId": "7a332aa1-1d1a-4089-d2b3-2f867592dde3",
        "colab": {
          "base_uri": "https://localhost:8080/",
          "height": 297
        }
      },
      "source": [
        "fig, axes = plt.subplots(nrows=1,ncols=2,figsize=(8,4))\n",
        "\n",
        "labels_val.plot.hist(ax = axes[0], title='Validation Labels')\n",
        "labels_test.plot.hist(ax = axes[1], title='Test Labels')\n",
        "fig.tight_layout()"
      ],
      "execution_count": 64,
      "outputs": [
        {
          "output_type": "display_data",
          "data": {
            "image/png": "[encoded data removed]",
            "text/plain": [
              "<Figure size 576x288 with 2 Axes>"
            ]
          },
          "metadata": {
            "tags": [],
            "needs_background": "light"
          }
        }
      ]
    },
    {
      "cell_type": "markdown",
      "metadata": {
        "id": "dnUmivNMFlIC"
      },
      "source": [
        "#### Null handling"
      ]
    },
    {
      "cell_type": "code",
      "metadata": {
        "id": "ZaU1cGgkVTTr",
        "outputId": "a0f23e55-769f-468e-9f3d-515f9e54eac4",
        "colab": {
          "base_uri": "https://localhost:8080/",
          "height": 204
        }
      },
      "source": [
        "print(\"Nulls in training set:\")\n",
        "df_train.isnull().sum()"
      ],
      "execution_count": 65,
      "outputs": [
        {
          "output_type": "stream",
          "text": [
            "Nulls in training set:\n"
          ],
          "name": "stdout"
        },
        {
          "output_type": "execute_result",
          "data": {
            "text/plain": [
              "comment           51\n",
              "author             0\n",
              "subreddit          0\n",
              "score              0\n",
              "ups                0\n",
              "downs              0\n",
              "date               0\n",
              "created_utc        0\n",
              "parent_comment     0\n",
              "dtype: int64"
            ]
          },
          "metadata": {
            "tags": []
          },
          "execution_count": 65
        }
      ]
    },
    {
      "cell_type": "markdown",
      "metadata": {
        "id": "jlTUZog0s7IZ"
      },
      "source": [
        "Since I don't want to divide and reassemble the data and the labels each time i apply a function to both, i'll simply create a function that applies row based functions to them and handles the dividing and reassembling for me"
      ]
    },
    {
      "cell_type": "code",
      "metadata": {
        "id": "RBZwEjEYdxFj"
      },
      "source": [
        "def handle_row_dropping_functions(df, labels, row_dropping_funcs={}):\n",
        "  \"\"\"\n",
        "  Applies data munging functions that may drop rows in the dataset\n",
        "  This function makes sure the corresponding labels of each dropped row is deleted as well\n",
        "\n",
        "  Parameters\n",
        "  ----------\n",
        "  df : pandas DataFrame\n",
        "      The dataset to apply the functions on\n",
        "  labels : pandas Series\n",
        "      The corresponding labels of the dataset\n",
        "  row_dropping_funcs : Dict\n",
        "      A dictionary containing functions as keys\n",
        "      and any parameters necessary for them (except the df!) as values\n",
        "\n",
        "  Returns\n",
        "  -------\n",
        "  new_df\n",
        "      The recieved DF after being handled the fucntions\n",
        "  new_labels:\n",
        "      The labels for the df, without the dropped rows\n",
        "  \"\"\"\n",
        "\n",
        "  # Combine data and labels based on their index\n",
        "  new_df = df.copy()\n",
        "  new_labels = labels.copy()\n",
        "  new_df['label'] = new_labels\n",
        "  \n",
        "  # Apply row dropping functions\n",
        "  for row_dropping_func, func_params in row_dropping_funcs.items():\n",
        "    func_params['df'] = new_df\n",
        "    new_df = row_dropping_func(**func_params)\n",
        "  \n",
        "  # Return the updated datasets as they were before\n",
        "  new_labels = new_df['label']\n",
        "  new_df = new_df.drop(columns = ['label'])\n",
        "\n",
        "  return new_df, new_labels"
      ],
      "execution_count": 66,
      "outputs": []
    },
    {
      "cell_type": "code",
      "metadata": {
        "id": "F-cgrlu4OKxT"
      },
      "source": [
        "def handle_nulls(**kwargs):\n",
        "  \"\"\"\n",
        "  Returns the df without rows where some columns are null\n",
        "  Right now could have been done without a function,\n",
        "  but useful for encapsulating more complex null handling situations in the future\n",
        "\n",
        "  Parameters\n",
        "  ----------\n",
        "  df : pandas DataFrame\n",
        "      The dataset to drop NaNs from\n",
        "  unfixable_columns : list\n",
        "      The columns that need to be dropped if empty (default is an empty list)\n",
        "\n",
        "  Returns\n",
        "  -------\n",
        "  new_df\n",
        "      The recieved DF but with rows without null columns\n",
        "  \"\"\"\n",
        "\n",
        "  new_df = kwargs['df'].copy()\n",
        "  new_df = new_df.dropna(subset = kwargs['unfixable_columns'])\n",
        "  return new_df"
      ],
      "execution_count": 67,
      "outputs": []
    },
    {
      "cell_type": "code",
      "metadata": {
        "id": "RbwwENfYdATn"
      },
      "source": [
        "def nan_handle(df, labels):\n",
        "  new_df = df.copy()\n",
        "  new_labels = labels.copy()\n",
        "\n",
        "  # If the value of these columns is null, drop the row \n",
        "  COLUMNS_TO_DROP_BY = ['comment']\n",
        "\n",
        "  row_dropping_funcs = {\n",
        "      handle_nulls: { 'unfixable_columns': COLUMNS_TO_DROP_BY }\n",
        "      }\n",
        "\n",
        "  new_df, new_labels = handle_row_dropping_functions(new_df, new_labels, row_dropping_funcs)\n",
        "  return new_df, new_labels"
      ],
      "execution_count": 68,
      "outputs": []
    },
    {
      "cell_type": "markdown",
      "metadata": {
        "id": "NeT_OluY8I3G"
      },
      "source": [
        "#### Text cleaning - Comments only\n",
        "\n",
        "For starters, i'll only explore the comments themselves to see how much sarcasm can be inferred from the text alone.\n",
        "\n",
        "Later on i'll start engineering more features from the rest of the data to see how much the context matters for inferring sarcasm with this data"
      ]
    },
    {
      "cell_type": "markdown",
      "metadata": {
        "id": "DPlExkPR9pfX"
      },
      "source": [
        "Let's look at a sample from the text to see what we're handling with"
      ]
    },
    {
      "cell_type": "code",
      "metadata": {
        "id": "JOqAE9M28NM_",
        "outputId": "c4c1e59a-809b-4640-a2b3-9812861bb247",
        "colab": {
          "base_uri": "https://localhost:8080/",
          "height": 187
        }
      },
      "source": [
        "for index, text in enumerate(df_train['comment'][35:40]):\n",
        "  print('Comment {}:\\n {}'.format(index+1, text))"
      ],
      "execution_count": 69,
      "outputs": [
        {
          "output_type": "stream",
          "text": [
            "Comment 1:\n",
            " That Stormtrooper pumpkin looks awesome!\n",
            "Comment 2:\n",
            " Yeah, Barry will let this slide.\n",
            "Comment 3:\n",
            " Uh oh, Trigga Trey gonna get some revenge.\n",
            "Comment 4:\n",
            " fuck your opinion\n",
            "Comment 5:\n",
            " we know, but not to loud or the wackos will catch on\n"
          ],
          "name": "stdout"
        }
      ]
    },
    {
      "cell_type": "code",
      "metadata": {
        "id": "IAv1n5EEVHLX"
      },
      "source": [
        "NLP_ENGINES = {\n",
        "    'simple' : spacy.load(\"en_core_web_sm\", disable=['tagger', 'parser', 'ner']),\n",
        "    'POSs_and_deps' : spacy.load(\"en_core_web_sm\", disable=['ner'])\n",
        "}"
      ],
      "execution_count": 70,
      "outputs": []
    },
    {
      "cell_type": "code",
      "metadata": {
        "id": "Jjy2NRjl3SST"
      },
      "source": [
        "def tokenize_and_clean_text(doc):\n",
        "  tokenized_processed_text = []\n",
        "  for token in doc: \n",
        "    cleaned_text = token.text.lower()\n",
        "    if token.is_currency:\n",
        "      cleaned_text = clean(cleaned_text, no_currency_symbols = True)\n",
        "    if token.like_email:\n",
        "      cleaned_text = clean(cleaned_text, no_emails = True)\n",
        "    if token.like_url:\n",
        "      cleaned_text = clean(cleaned_text, no_urls = True)\n",
        "    \n",
        "    tokenized_processed_text.append(cleaned_text)\n",
        "  \n",
        "  return tokenized_processed_text"
      ],
      "execution_count": 71,
      "outputs": []
    },
    {
      "cell_type": "markdown",
      "metadata": {
        "id": "DPs--zXAwhey"
      },
      "source": [
        "###### Simple text cleaning and tokenization"
      ]
    },
    {
      "cell_type": "code",
      "metadata": {
        "id": "weaHzGQSNi0V"
      },
      "source": [
        "def simple_single_text_processing(text):\n",
        "  # spaCy does not handle numbers without text well, so we'll clean them in  the beginning\n",
        "  clean(text, no_numbers=True)\n",
        "  \n",
        "  # spaCy will only handle contractions and will just tokenize the data in general\n",
        "  nlp_engine = NLP_ENGINES['simple']\n",
        "  doc = nlp_engine(text)\n",
        "\n",
        "  list_of_processed_tokens = tokenize_and_clean_text(doc)\n",
        "  return ' '.join(list_of_processed_tokens)"
      ],
      "execution_count": 72,
      "outputs": []
    },
    {
      "cell_type": "code",
      "metadata": {
        "id": "XpuhzfTB2cQ-"
      },
      "source": [
        "def simple_text_processing(df, text_columns='comment'):\n",
        "  new_fd = df.copy()\n",
        "  for column in text_columns:\n",
        "    new_df['processed ' + column] = new_df[column].apply(lambda text: simple_single_text_processing(text))\n",
        "  return new_df"
      ],
      "execution_count": 73,
      "outputs": []
    },
    {
      "cell_type": "code",
      "metadata": {
        "id": "pYKucVjsIJsU"
      },
      "source": [
        ""
      ],
      "execution_count": 73,
      "outputs": []
    },
    {
      "cell_type": "markdown",
      "metadata": {
        "id": "Pd6zKdwTl-9H"
      },
      "source": [
        "##### More advanced text features"
      ]
    },
    {
      "cell_type": "markdown",
      "metadata": {
        "id": "kjnLrseohHsq"
      },
      "source": [
        "In order to process text for more advanced features, we'll use spacy's ready pipelines. But considering the fact we're dealing with 1M comments, it's worth trying to parallelize the workload"
      ]
    },
    {
      "cell_type": "markdown",
      "metadata": {
        "id": "DkE8mo9Y9ZV2"
      },
      "source": [
        "We'll do a few quick checks to see what are roughly the right parameters to run this parallelized processing"
      ]
    },
    {
      "cell_type": "code",
      "metadata": {
        "id": "VGyJsSz2jxJ4",
        "outputId": "39116ed2-6978-401c-a703-7e9394d6ddd7",
        "colab": {
          "base_uri": "https://localhost:8080/",
          "height": 68
        }
      },
      "source": [
        "! lscpu | grep CPU\\(s\\)"
      ],
      "execution_count": 74,
      "outputs": [
        {
          "output_type": "stream",
          "text": [
            "CPU(s):              2\n",
            "On-line CPU(s) list: 0,1\n",
            "NUMA node0 CPU(s):   0,1\n"
          ],
          "name": "stdout"
        }
      ]
    },
    {
      "cell_type": "code",
      "metadata": {
        "id": "-lfP97129pI_",
        "outputId": "08c01034-b627-41e0-e85e-9455ffaf9499",
        "colab": {
          "base_uri": "https://localhost:8080/",
          "height": 298
        }
      },
      "source": [
        "# Since there's a few comments that are just numbers and no text, we'll convert all comments to string just in case\n",
        "comment_length = df_train['comment'].apply(lambda text: len(str(text)))\n",
        "comment_length.plot(kind='hist', y='comment length', title = 'Comments length distribution')"
      ],
      "execution_count": 75,
      "outputs": [
        {
          "output_type": "execute_result",
          "data": {
            "text/plain": [
              "<matplotlib.axes._subplots.AxesSubplot at 0x7f5c28213eb8>"
            ]
          },
          "metadata": {
            "tags": []
          },
          "execution_count": 75
        },
        {
          "output_type": "display_data",
          "data": {
            "image/png": "[encoded data removed]",
            "text/plain": [
              "<Figure size 432x288 with 1 Axes>"
            ]
          },
          "metadata": {
            "tags": [],
            "needs_background": "light"
          }
        }
      ]
    },
    {
      "cell_type": "markdown",
      "metadata": {
        "id": "EwaRwKLz-6jB"
      },
      "source": [
        "Not surprisingly, most of the comments are pretty short. Let's see how many of them are actually huge"
      ]
    },
    {
      "cell_type": "code",
      "metadata": {
        "id": "DaLPZXvcB-ET",
        "outputId": "feed7206-65c8-4e81-f6be-c9bd0eb8e514",
        "colab": {
          "base_uri": "https://localhost:8080/",
          "height": 170
        }
      },
      "source": [
        "comment_length.describe()"
      ],
      "execution_count": 76,
      "outputs": [
        {
          "output_type": "execute_result",
          "data": {
            "text/plain": [
              "count    970392.000000\n",
              "mean         56.691743\n",
              "std          62.433983\n",
              "min           1.000000\n",
              "25%          27.000000\n",
              "50%          46.000000\n",
              "75%          74.000000\n",
              "max       10000.000000\n",
              "Name: comment, dtype: float64"
            ]
          },
          "metadata": {
            "tags": []
          },
          "execution_count": 76
        }
      ]
    },
    {
      "cell_type": "code",
      "metadata": {
        "id": "UrebEGAw_Kqm",
        "outputId": "bbe4ad64-7978-45bc-854e-fbfeb00b8163",
        "colab": {
          "base_uri": "https://localhost:8080/",
          "height": 34
        }
      },
      "source": [
        "long_comment_mask = comment_length > 200\n",
        "print('Overall ratio of long comments: %.3f' % (long_comment_mask.mean()))"
      ],
      "execution_count": 77,
      "outputs": [
        {
          "output_type": "stream",
          "text": [
            "Overall ratio of long comments: 0.011\n"
          ],
          "name": "stdout"
        }
      ]
    },
    {
      "cell_type": "markdown",
      "metadata": {
        "id": "QOFzlR_5FiK_"
      },
      "source": [
        "Well, because there are about 1% long comments, can use a large chunk size and pipe size since for every 100K comments i'll only get 1000 long comments, which is nothing compared to the amount of RAM i have"
      ]
    },
    {
      "cell_type": "code",
      "metadata": {
        "id": "gtikZFvRhlcx"
      },
      "source": [
        "def chunker(iterable, total_length, chunksize):\n",
        "    return [iterable[position: position + chunksize] for position in range(0, total_length, chunksize)]\n",
        "\n",
        "def flatten(list_of_lists):\n",
        "    \"Flatten a list of lists to a combined list\"\n",
        "    return [item for sublist in list_of_lists for item in sublist]\n",
        "\n",
        "def process_chunk(texts):\n",
        "    new_columns = []\n",
        "    nlp_engine = NLP_ENGINES['POSs_and_deps']\n",
        "    \n",
        "    clean_texts = [clean(text, no_numbers=True) for text in texts]\n",
        "    for doc in nlp_engine.pipe(clean_texts, batch_size=20000):\n",
        "      features = {}\n",
        "\n",
        "      features['pos tags'] = ' '.join([token.tag_.lower() for token in doc])\n",
        "      features['word dependencies'] = ' '.join([token.dep_.lower() for token in doc])\n",
        "\n",
        "      # I'll also keep a simple tokenized version of the text since there's no reason to run spacy twice \n",
        "      features['processed comment'] = ' '.join(tokenize_and_clean_text(doc))\n",
        "\n",
        "      new_columns.append(features)\n",
        "\n",
        "    return new_columns\n",
        "\n",
        "def parallel_pos_and_dep_text_processing(texts, chunksize):\n",
        "    executor = Parallel(n_jobs=-1, backend='multiprocessing', prefer=\"processes\")\n",
        "    do = delayed(process_chunk)\n",
        "    tasks = [do(chunk) for chunk in chunker(texts, len(texts), chunksize=chunksize)]\n",
        "    result = executor(tasks)\n",
        "    new_columns = flatten(result)\n",
        "    return pd.DataFrame(new_columns)\n",
        "\n",
        "def pos_and_dep_text_processing(df, text_columns='comment'):\n",
        "  new_df = df.copy()\n",
        "  for column in text_columns:\n",
        "    advanced_df_features = parallel_pos_and_dep_text_processing(new_df[column], chunksize=100000)\n",
        "    advanced_df_features.index = new_df.index\n",
        "    new_df = new_df.merge(advanced_df_features, how='left', left_index=True, right_index=True)\n",
        "\n",
        "  return new_df"
      ],
      "execution_count": 85,
      "outputs": []
    },
    {
      "cell_type": "markdown",
      "metadata": {
        "id": "iXblypr9OIN8"
      },
      "source": [
        "For chunk size of 100K and pipe size of 20K it took 16min and 22s"
      ]
    },
    {
      "cell_type": "code",
      "metadata": {
        "id": "q5cNehPtPlgU"
      },
      "source": [
        "def get_advanced_text_columns(df, processing_type='simple', from_where='scratch', file_path=None):\n",
        "  new_df = df.copy()\n",
        "  if file_path is not None:\n",
        "    if from_where == 'scratch':\n",
        "      if processing_type == 'simple':\n",
        "        new_df = simple_text_processing(new_df, text_columns=['comment'])\n",
        "      elif processing_type == 'pos_and_deps':\n",
        "        new_df = pos_and_dep_text_processing(new_df, text_columns=['comment'])\n",
        "        \n",
        "      new_df.to_csv(file_path)\n",
        "\n",
        "    elif from_where == 'file':\n",
        "      new_df_processed = pd.read_csv(file_path)\n",
        "      new_df_processed.index = new_df.index\n",
        "      new_df = new_df.merge(new_df_processed, how='left', left_index = True, right_index = True) \n",
        "    else:\n",
        "      print('You haven\\'t entered a valid file path')\n",
        "\n",
        "  return new_df"
      ],
      "execution_count": 86,
      "outputs": []
    },
    {
      "cell_type": "code",
      "metadata": {
        "id": "UUqsYI4MHXQo"
      },
      "source": [
        "def preprocess_df(df, labels, processing_type, extra_features_from, extra_features_file_path):\n",
        "  new_df = df.copy()\n",
        "  new_labels = labels.copy()  \n",
        "\n",
        "  new_df, new_labels = nan_handle(new_df, new_labels)\n",
        "\n",
        "  new_df = get_advanced_text_columns(new_df,\n",
        "                                     processing_type = processing_type,\n",
        "                                     from_where = extra_features_from,\n",
        "                                     file_path = extra_features_file_path)\n",
        "\n",
        "  return new_df, new_labels"
      ],
      "execution_count": 87,
      "outputs": []
    },
    {
      "cell_type": "code",
      "metadata": {
        "id": "p_uZf5JgHSk3"
      },
      "source": [
        "full_df_train_for_clf, labels_train_for_clf = preprocess_df(df_train, labels_train,\n",
        "                                                            processing_type = 'pos_and_deps',\n",
        "                                                            extra_features_from = 'file',\n",
        "                                                            extra_features_file_path = 'train_with_POSs_and_deps_rand_state_{}.csv'.format(TRAIN_TEST_RAND_STATE))"
      ],
      "execution_count": 88,
      "outputs": []
    },
    {
      "cell_type": "code",
      "metadata": {
        "id": "g2KdKs6XXXHP",
        "outputId": "0b227c86-90a4-466b-9023-5df8a8a33d89",
        "colab": {
          "base_uri": "https://localhost:8080/",
          "height": 187
        }
      },
      "source": [
        "for index, text in enumerate(full_df_train_for_clf['processed comment'][35:40]):\n",
        "  print('Comment {}:\\n {}'.format(index+1, text))"
      ],
      "execution_count": 89,
      "outputs": [
        {
          "output_type": "stream",
          "text": [
            "Comment 1:\n",
            " that stormtrooper pumpkin looks awesome !\n",
            "Comment 2:\n",
            " yeah , barry will let this slide .\n",
            "Comment 3:\n",
            " uh oh , trigga trey gon na get some revenge .\n",
            "Comment 4:\n",
            " fuck your opinion\n",
            "Comment 5:\n",
            " we know , but not to loud or the wackos will catch on\n"
          ],
          "name": "stdout"
        }
      ]
    },
    {
      "cell_type": "markdown",
      "metadata": {
        "id": "hEskcbTYJfqH"
      },
      "source": [
        "# Model Research Process - Comments Only"
      ]
    },
    {
      "cell_type": "markdown",
      "metadata": {
        "id": "DjhEt9PYEwHH"
      },
      "source": [
        "#### Preprocess the validation and test datasets"
      ]
    },
    {
      "cell_type": "code",
      "metadata": {
        "id": "sJNIPpKuJfUm"
      },
      "source": [
        "full_df_val_for_clf, labels_val_for_clf = preprocess_df(df_val, labels_val,\n",
        "                                                        processing_type = 'pos_and_deps',\n",
        "                                                        extra_features_from = 'file',\n",
        "                                                        extra_features_file_path = 'validation_with_POSs_and_deps_rand_state_{}.csv'.format(VAL_TEST_RAND_STATE))\n",
        "full_df_test_for_clf, labels_test_for_clf = preprocess_df(df_test, labels_test,\n",
        "                                                          processing_type = 'pos_and_deps',\n",
        "                                                          extra_features_from = 'file',\n",
        "                                                          extra_features_file_path = 'test_with_POSs_and_deps_rand_state_{}.csv'.format(VAL_TEST_RAND_STATE))"
      ],
      "execution_count": 97,
      "outputs": []
    },
    {
      "cell_type": "markdown",
      "metadata": {
        "id": "oFvpouHVJjG7"
      },
      "source": [
        "## We begin our research by trying out a basic logistic regression model on only a simple tokenized comment"
      ]
    },
    {
      "cell_type": "code",
      "metadata": {
        "id": "WU4Bn3dF35cf"
      },
      "source": [
        "FEATURES_TO_CLASSIFY_BY = ['processed comment']\n",
        "df_train_for_clf = full_df_train_for_clf[FEATURES_TO_CLASSIFY_BY]\n",
        "df_val_for_clf = full_df_val_for_clf[FEATURES_TO_CLASSIFY_BY]\n",
        "df_test_for_clf = full_df_test_for_clf[FEATURES_TO_CLASSIFY_BY]"
      ],
      "execution_count": 25,
      "outputs": []
    },
    {
      "cell_type": "code",
      "metadata": {
        "id": "gWfnvrvOAhO6"
      },
      "source": [
        "TEXTUAL_COLUMNS = 'processed comment'\n",
        "model_pipes_to_evaluate = {}\n",
        "MODELS_FOLDER = './models'"
      ],
      "execution_count": 26,
      "outputs": []
    },
    {
      "cell_type": "code",
      "metadata": {
        "id": "m9IzfoDNMW12"
      },
      "source": [
        "def save_model_pipeline_and_info(model_pipe_and_info, file_name):\n",
        "  full_path = os.path.join(MODELS_FOLDER, file_name)\n",
        "  with open(full_path, 'wb') as model_pipeline_and_info_file:\n",
        "    pickle.dump(model_pipe_and_info, model_pipeline_and_info_file)\n",
        "            \n",
        "def get_model_pipeline_and_info(file_name):\n",
        "  full_path = os.path.join(MODELS_FOLDER, file_name)\n",
        "  if os.path.exists(full_path):\n",
        "    with open(full_path, 'rb') as model_pipeline_and_info_file:\n",
        "      model_pipe_and_info = pickle.load(model_pipeline_and_info_file)\n",
        "  else:\n",
        "      return None\n",
        "  return model_pipe_and_info"
      ],
      "execution_count": null,
      "outputs": []
    },
    {
      "cell_type": "markdown",
      "metadata": {
        "id": "IhCmO3fvV3lE"
      },
      "source": [
        "### First, a relatively primitive count vectorizer of the comments"
      ]
    },
    {
      "cell_type": "code",
      "metadata": {
        "id": "961AIbjXWYpT"
      },
      "source": [
        "# I'll assume a word that doesn't appear at least thrice, is probably too specific to care about\n",
        "ctv = CountVectorizer(min_df = 3)\n",
        "text_preprocessor = ColumnTransformer(\n",
        "    transformers=[\n",
        "        ('text', ctv, TEXTUAL_COLUMNS)\n",
        "    ])\n",
        "log_reg_ctv_clf = LogisticRegression(solver='saga', C=1, n_jobs=-1, verbose=False, max_iter=300)\n",
        "ctv_lr_pipeline = Pipeline([('counter', text_preprocessor), \n",
        "                            ('logitRegressor', log_reg_ctv_clf)])"
      ],
      "execution_count": null,
      "outputs": []
    },
    {
      "cell_type": "code",
      "metadata": {
        "id": "79CZ5F5UWZ_Z",
        "outputId": "8536523c-2ed6-4576-f6d2-d8606a4f874f",
        "colab": {
          "base_uri": "https://localhost:8080/",
          "height": 629
        }
      },
      "source": [
        "%%time\n",
        "ctv_lr_pipeline.fit(df_train_for_clf, labels_train_for_clf)"
      ],
      "execution_count": null,
      "outputs": [
        {
          "output_type": "stream",
          "text": [
            "/usr/local/lib/python3.6/dist-packages/sklearn/linear_model/_sag.py:330: ConvergenceWarning: The max_iter was reached which means the coef_ did not converge\n",
            "  \"the coef_ did not converge\", ConvergenceWarning)\n"
          ],
          "name": "stderr"
        },
        {
          "output_type": "stream",
          "text": [
            "CPU times: user 6min 6s, sys: 359 ms, total: 6min 6s\n",
            "Wall time: 4min 41s\n"
          ],
          "name": "stdout"
        },
        {
          "output_type": "execute_result",
          "data": {
            "text/plain": [
              "Pipeline(memory=None,\n",
              "         steps=[('counter',\n",
              "                 ColumnTransformer(n_jobs=None, remainder='drop',\n",
              "                                   sparse_threshold=0.3,\n",
              "                                   transformer_weights=None,\n",
              "                                   transformers=[('text',\n",
              "                                                  CountVectorizer(analyzer='word',\n",
              "                                                                  binary=False,\n",
              "                                                                  decode_error='strict',\n",
              "                                                                  dtype=<class 'numpy.int64'>,\n",
              "                                                                  encoding='utf-8',\n",
              "                                                                  input='content',\n",
              "                                                                  lowercase=True,\n",
              "                                                                  max_df=1.0,\n",
              "                                                                  max_features=None,\n",
              "                                                                  min_df=3,\n",
              "                                                                  ngram_range=(1,\n",
              "                                                                               1...\n",
              "                                                                  token_pattern='(?u)\\\\b\\\\w\\\\w+\\\\b',\n",
              "                                                                  tokenizer=None,\n",
              "                                                                  vocabulary=None),\n",
              "                                                  'processed comment')],\n",
              "                                   verbose=False)),\n",
              "                ('logitRegressor',\n",
              "                 LogisticRegression(C=1, class_weight=None, dual=False,\n",
              "                                    fit_intercept=True, intercept_scaling=1,\n",
              "                                    l1_ratio=None, max_iter=300,\n",
              "                                    multi_class='auto', n_jobs=-1, penalty='l2',\n",
              "                                    random_state=None, solver='saga',\n",
              "                                    tol=0.0001, verbose=False,\n",
              "                                    warm_start=False))],\n",
              "         verbose=False)"
            ]
          },
          "metadata": {
            "tags": []
          },
          "execution_count": 109
        }
      ]
    },
    {
      "cell_type": "code",
      "metadata": {
        "id": "ZrADpSmwWzsb",
        "outputId": "6b4182fd-3b83-4336-8912-b3c297200e46",
        "colab": {
          "base_uri": "https://localhost:8080/",
          "height": 51
        }
      },
      "source": [
        "# Logistic Regressor has a ready score function that returns the accuracy of the model on another dataset\n",
        "print (\"Training accuracy: %0.5f \" % ctv_lr_pipeline.score(df_train_for_clf, labels_train_for_clf))\n",
        "print (\"Validation accuracy: %0.5f \" % ctv_lr_pipeline.score(df_val_for_clf, labels_val_for_clf))"
      ],
      "execution_count": null,
      "outputs": [
        {
          "output_type": "stream",
          "text": [
            "Training accuracy: 0.64346 \n",
            "Validation accuracy: 0.63717 \n"
          ],
          "name": "stdout"
        }
      ]
    },
    {
      "cell_type": "markdown",
      "metadata": {
        "id": "1hBZQyhDXZqV"
      },
      "source": [
        "### We also test a basic tf-idf vector"
      ]
    },
    {
      "cell_type": "code",
      "metadata": {
        "id": "1UkKmNJ8KytE"
      },
      "source": [
        "# We'll first try to create a simple baseline model\n",
        "# Our baseline model will be a logistic regression model, which we'll train on the unigram tf_idf vectors of the original comments text \n",
        "tfv = TfidfVectorizer(min_df = 3)\n",
        "text_preprocessor = ColumnTransformer(\n",
        "    transformers=[\n",
        "        ('text', tfv, TEXTUAL_COLUMNS)\n",
        "    ])\n",
        "lr_tfidf_clf = LogisticRegression(solver='saga', n_jobs=-1, verbose=False, max_iter=300)\n",
        "\n",
        "tfidf_lr_pipeline = Pipeline([('tf_idf', text_preprocessor), \n",
        "                                 ('logitRegressor', lr_tfidf_clf)])"
      ],
      "execution_count": null,
      "outputs": []
    },
    {
      "cell_type": "code",
      "metadata": {
        "id": "mbcU2CtBlLGa",
        "outputId": "0530abdf-3e2e-4ad4-bae0-7e6252c241f7",
        "colab": {
          "base_uri": "https://localhost:8080/",
          "height": 578
        }
      },
      "source": [
        "%%time\n",
        "tfidf_lr_pipeline.fit(df_train_for_clf, labels_train_for_clf)"
      ],
      "execution_count": null,
      "outputs": [
        {
          "output_type": "stream",
          "text": [
            "CPU times: user 34.6 s, sys: 28 ms, total: 34.7 s\n",
            "Wall time: 34.7 s\n"
          ],
          "name": "stdout"
        },
        {
          "output_type": "execute_result",
          "data": {
            "text/plain": [
              "Pipeline(memory=None,\n",
              "         steps=[('tf_idf',\n",
              "                 ColumnTransformer(n_jobs=None, remainder='drop',\n",
              "                                   sparse_threshold=0.3,\n",
              "                                   transformer_weights=None,\n",
              "                                   transformers=[('text',\n",
              "                                                  TfidfVectorizer(analyzer='word',\n",
              "                                                                  binary=False,\n",
              "                                                                  decode_error='strict',\n",
              "                                                                  dtype=<class 'numpy.float64'>,\n",
              "                                                                  encoding='utf-8',\n",
              "                                                                  input='content',\n",
              "                                                                  lowercase=True,\n",
              "                                                                  max_df=1.0,\n",
              "                                                                  max_features=None,\n",
              "                                                                  min_df=3,\n",
              "                                                                  ngram_range=(1,...\n",
              "                                                                  tokenizer=None,\n",
              "                                                                  use_idf=True,\n",
              "                                                                  vocabulary=None),\n",
              "                                                  'processed comment')],\n",
              "                                   verbose=False)),\n",
              "                ('logitRegressor',\n",
              "                 LogisticRegression(C=1.0, class_weight=None, dual=False,\n",
              "                                    fit_intercept=True, intercept_scaling=1,\n",
              "                                    l1_ratio=None, max_iter=300,\n",
              "                                    multi_class='auto', n_jobs=-1, penalty='l2',\n",
              "                                    random_state=None, solver='saga',\n",
              "                                    tol=0.0001, verbose=False,\n",
              "                                    warm_start=False))],\n",
              "         verbose=False)"
            ]
          },
          "metadata": {
            "tags": []
          },
          "execution_count": 112
        }
      ]
    },
    {
      "cell_type": "code",
      "metadata": {
        "id": "YkaRSFgSlNh0",
        "outputId": "84e96ad4-1198-4109-c2d0-686d46fcd86b",
        "colab": {
          "base_uri": "https://localhost:8080/",
          "height": 51
        }
      },
      "source": [
        "print (\"Training accuracy: %0.5f \" % tfidf_lr_pipeline.score(df_train_for_clf, labels_train_for_clf))\n",
        "print (\"Validation accuracy: %0.5f \" % tfidf_lr_pipeline.score(df_val_for_clf, labels_val_for_clf))"
      ],
      "execution_count": null,
      "outputs": [
        {
          "output_type": "stream",
          "text": [
            "Training accuracy: 0.71713 \n",
            "Validation accuracy: 0.69158 \n"
          ],
          "name": "stdout"
        }
      ]
    },
    {
      "cell_type": "markdown",
      "metadata": {
        "id": "LJY5hYrFXgrG"
      },
      "source": [
        "### We try a more sophisticated tf-idf vector"
      ]
    },
    {
      "cell_type": "code",
      "metadata": {
        "id": "VDp5qv7mLQaq"
      },
      "source": [
        "# Now let's try to run the same model, but on a more sophisticated tf-idf \n",
        "# This vectorizor is trained on both unigrams and bigrams, and only considers words that were used at least twice\n",
        "tfv = TfidfVectorizer(ngram_range=(1, 2), min_df=3)\n",
        "text_preprocessor = ColumnTransformer(\n",
        "    transformers=[\n",
        "        ('text', tfv, TEXTUAL_COLUMNS)\n",
        "    ])\n",
        "lr_tfidf_clf = LogisticRegression(solver='saga', n_jobs=-1, verbose=False, max_iter=300)\n",
        "\n",
        "tfidf_lr_pipeline = Pipeline([('tf_idf', text_preprocessor), \n",
        "                              ('logitRegressor', lr_tfidf_clf)])"
      ],
      "execution_count": 27,
      "outputs": []
    },
    {
      "cell_type": "code",
      "metadata": {
        "id": "-BmVM_nWVEjb",
        "outputId": "b3458c54-eefb-4efb-cfa3-4253455e9ef9",
        "colab": {
          "base_uri": "https://localhost:8080/",
          "height": 578
        }
      },
      "source": [
        "%%time\n",
        "tfidf_lr_pipeline.fit(df_train_for_clf, labels_train_for_clf)"
      ],
      "execution_count": null,
      "outputs": [
        {
          "output_type": "stream",
          "text": [
            "CPU times: user 1min 13s, sys: 850 ms, total: 1min 14s\n",
            "Wall time: 1min 14s\n"
          ],
          "name": "stdout"
        },
        {
          "output_type": "execute_result",
          "data": {
            "text/plain": [
              "Pipeline(memory=None,\n",
              "         steps=[('tf_idf',\n",
              "                 ColumnTransformer(n_jobs=None, remainder='drop',\n",
              "                                   sparse_threshold=0.3,\n",
              "                                   transformer_weights=None,\n",
              "                                   transformers=[('text',\n",
              "                                                  TfidfVectorizer(analyzer='word',\n",
              "                                                                  binary=False,\n",
              "                                                                  decode_error='strict',\n",
              "                                                                  dtype=<class 'numpy.float64'>,\n",
              "                                                                  encoding='utf-8',\n",
              "                                                                  input='content',\n",
              "                                                                  lowercase=True,\n",
              "                                                                  max_df=1.0,\n",
              "                                                                  max_features=None,\n",
              "                                                                  min_df=3,\n",
              "                                                                  ngram_range=(1,...\n",
              "                                                                  tokenizer=None,\n",
              "                                                                  use_idf=True,\n",
              "                                                                  vocabulary=None),\n",
              "                                                  'processed comment')],\n",
              "                                   verbose=False)),\n",
              "                ('logitRegressor',\n",
              "                 LogisticRegression(C=1.0, class_weight=None, dual=False,\n",
              "                                    fit_intercept=True, intercept_scaling=1,\n",
              "                                    l1_ratio=None, max_iter=300,\n",
              "                                    multi_class='auto', n_jobs=-1, penalty='l2',\n",
              "                                    random_state=None, solver='saga',\n",
              "                                    tol=0.0001, verbose=False,\n",
              "                                    warm_start=False))],\n",
              "         verbose=False)"
            ]
          },
          "metadata": {
            "tags": []
          },
          "execution_count": 115
        }
      ]
    },
    {
      "cell_type": "code",
      "metadata": {
        "id": "eefMkLZWVGDB",
        "outputId": "79aae77a-1b7c-45f9-b759-a9dae4bc3059",
        "colab": {
          "base_uri": "https://localhost:8080/",
          "height": 51
        }
      },
      "source": [
        "print (\"Training accuracy: %0.5f \" % tfidf_lr_pipeline.score(df_train_for_clf, labels_train_for_clf))\n",
        "print (\"Validation accuracy: %0.5f \" % tfidf_lr_pipeline.score(df_val_for_clf, labels_val_for_clf))"
      ],
      "execution_count": null,
      "outputs": [
        {
          "output_type": "stream",
          "text": [
            "Training accuracy: 0.78497 \n",
            "Validation accuracy: 0.72373 \n"
          ],
          "name": "stdout"
        }
      ]
    },
    {
      "cell_type": "code",
      "metadata": {
        "id": "fqOkWA0NVTBI",
        "outputId": "5bad085b-1513-4334-f096-0bd6bdfe647a",
        "colab": {
          "base_uri": "https://localhost:8080/",
          "height": 464
        }
      },
      "source": [
        "# Because it was te best model we tried to understand better what affected his performance\n",
        "eli5.show_weights(estimator=tfidf_lr_pipeline.named_steps['logitRegressor'],\n",
        "                  vec=tfidf_lr_pipeline.named_steps['tf_idf'])"
      ],
      "execution_count": null,
      "outputs": [
        {
          "output_type": "execute_result",
          "data": {
            "text/html": [
              "\n",
              "    <style>\n",
              "    table.eli5-weights tr:hover {\n",
              "        filter: brightness(85%);\n",
              "    }\n",
              "</style>\n",
              "\n",
              "\n",
              "\n",
              "    \n",
              "\n",
              "    \n",
              "\n",
              "    \n",
              "\n",
              "    \n",
              "\n",
              "    \n",
              "\n",
              "    \n",
              "\n",
              "\n",
              "    \n",
              "\n",
              "    \n",
              "\n",
              "    \n",
              "\n",
              "    \n",
              "        \n",
              "\n",
              "    \n",
              "\n",
              "        \n",
              "            \n",
              "                \n",
              "                \n",
              "    \n",
              "        <p style=\"margin-bottom: 0.5em; margin-top: 0em\">\n",
              "            <b>\n",
              "    \n",
              "        y=1\n",
              "    \n",
              "</b>\n",
              "\n",
              "top features\n",
              "        </p>\n",
              "    \n",
              "    <table class=\"eli5-weights\"\n",
              "           style=\"border-collapse: collapse; border: none; margin-top: 0em; table-layout: auto; margin-bottom: 2em;\">\n",
              "        <thead>\n",
              "        <tr style=\"border: none;\">\n",
              "            \n",
              "                <th style=\"padding: 0 1em 0 0.5em; text-align: right; border: none;\" title=\"Feature weights. Note that weights do not account for feature value scales, so if feature values have different scales, features with highest weights might not be the most important.\">\n",
              "                    Weight<sup>?</sup>\n",
              "                </th>\n",
              "            \n",
              "            <th style=\"padding: 0 0.5em 0 0.5em; text-align: left; border: none;\">Feature</th>\n",
              "            \n",
              "        </tr>\n",
              "        </thead>\n",
              "        <tbody>\n",
              "        \n",
              "            <tr style=\"background-color: hsl(120, 100.00%, 80.00%); border: none;\">\n",
              "    <td style=\"padding: 0 1em 0 0.5em; text-align: right; border: none;\">\n",
              "        +10.494\n",
              "    </td>\n",
              "    <td style=\"padding: 0 0.5em 0 0.5em; text-align: left; border: none;\">\n",
              "        text__yes because\n",
              "    </td>\n",
              "    \n",
              "</tr>\n",
              "        \n",
              "            <tr style=\"background-color: hsl(120, 100.00%, 82.06%); border: none;\">\n",
              "    <td style=\"padding: 0 1em 0 0.5em; text-align: right; border: none;\">\n",
              "        +8.981\n",
              "    </td>\n",
              "    <td style=\"padding: 0 0.5em 0 0.5em; text-align: left; border: none;\">\n",
              "        text__obviously\n",
              "    </td>\n",
              "    \n",
              "</tr>\n",
              "        \n",
              "            <tr style=\"background-color: hsl(120, 100.00%, 82.32%); border: none;\">\n",
              "    <td style=\"padding: 0 1em 0 0.5em; text-align: right; border: none;\">\n",
              "        +8.798\n",
              "    </td>\n",
              "    <td style=\"padding: 0 0.5em 0 0.5em; text-align: left; border: none;\">\n",
              "        text__clearly\n",
              "    </td>\n",
              "    \n",
              "</tr>\n",
              "        \n",
              "            <tr style=\"background-color: hsl(120, 100.00%, 82.98%); border: none;\">\n",
              "    <td style=\"padding: 0 1em 0 0.5em; text-align: right; border: none;\">\n",
              "        +8.336\n",
              "    </td>\n",
              "    <td style=\"padding: 0 0.5em 0 0.5em; text-align: left; border: none;\">\n",
              "        text__totally\n",
              "    </td>\n",
              "    \n",
              "</tr>\n",
              "        \n",
              "            <tr style=\"background-color: hsl(120, 100.00%, 82.98%); border: none;\">\n",
              "    <td style=\"padding: 0 1em 0 0.5em; text-align: right; border: none;\">\n",
              "        +8.335\n",
              "    </td>\n",
              "    <td style=\"padding: 0 0.5em 0 0.5em; text-align: left; border: none;\">\n",
              "        text__yeah because\n",
              "    </td>\n",
              "    \n",
              "</tr>\n",
              "        \n",
              "            <tr style=\"background-color: hsl(120, 100.00%, 83.12%); border: none;\">\n",
              "    <td style=\"padding: 0 1em 0 0.5em; text-align: right; border: none;\">\n",
              "        +8.237\n",
              "    </td>\n",
              "    <td style=\"padding: 0 0.5em 0 0.5em; text-align: left; border: none;\">\n",
              "        text__because\n",
              "    </td>\n",
              "    \n",
              "</tr>\n",
              "        \n",
              "            <tr style=\"background-color: hsl(120, 100.00%, 85.08%); border: none;\">\n",
              "    <td style=\"padding: 0 1em 0 0.5em; text-align: right; border: none;\">\n",
              "        +6.903\n",
              "    </td>\n",
              "    <td style=\"padding: 0 0.5em 0 0.5em; text-align: left; border: none;\">\n",
              "        text__how dare\n",
              "    </td>\n",
              "    \n",
              "</tr>\n",
              "        \n",
              "            <tr style=\"background-color: hsl(120, 100.00%, 85.92%); border: none;\">\n",
              "    <td style=\"padding: 0 1em 0 0.5em; text-align: right; border: none;\">\n",
              "        +6.356\n",
              "    </td>\n",
              "    <td style=\"padding: 0 0.5em 0 0.5em; text-align: left; border: none;\">\n",
              "        text__good thing\n",
              "    </td>\n",
              "    \n",
              "</tr>\n",
              "        \n",
              "            <tr style=\"background-color: hsl(120, 100.00%, 86.32%); border: none;\">\n",
              "    <td style=\"padding: 0 1em 0 0.5em; text-align: right; border: none;\">\n",
              "        +6.100\n",
              "    </td>\n",
              "    <td style=\"padding: 0 0.5em 0 0.5em; text-align: left; border: none;\">\n",
              "        text__right because\n",
              "    </td>\n",
              "    \n",
              "</tr>\n",
              "        \n",
              "            <tr style=\"background-color: hsl(120, 100.00%, 86.91%); border: none;\">\n",
              "    <td style=\"padding: 0 1em 0 0.5em; text-align: right; border: none;\">\n",
              "        +5.725\n",
              "    </td>\n",
              "    <td style=\"padding: 0 0.5em 0 0.5em; text-align: left; border: none;\">\n",
              "        text__gee\n",
              "    </td>\n",
              "    \n",
              "</tr>\n",
              "        \n",
              "            <tr style=\"background-color: hsl(120, 100.00%, 86.93%); border: none;\">\n",
              "    <td style=\"padding: 0 1em 0 0.5em; text-align: right; border: none;\">\n",
              "        +5.717\n",
              "    </td>\n",
              "    <td style=\"padding: 0 0.5em 0 0.5em; text-align: left; border: none;\">\n",
              "        text__duh\n",
              "    </td>\n",
              "    \n",
              "</tr>\n",
              "        \n",
              "            <tr style=\"background-color: hsl(120, 100.00%, 87.12%); border: none;\">\n",
              "    <td style=\"padding: 0 1em 0 0.5em; text-align: right; border: none;\">\n",
              "        +5.594\n",
              "    </td>\n",
              "    <td style=\"padding: 0 0.5em 0 0.5em; text-align: left; border: none;\">\n",
              "        text__but thought\n",
              "    </td>\n",
              "    \n",
              "</tr>\n",
              "        \n",
              "            <tr style=\"background-color: hsl(120, 100.00%, 87.18%); border: none;\">\n",
              "    <td style=\"padding: 0 1em 0 0.5em; text-align: right; border: none;\">\n",
              "        +5.561\n",
              "    </td>\n",
              "    <td style=\"padding: 0 0.5em 0 0.5em; text-align: left; border: none;\">\n",
              "        text__fault\n",
              "    </td>\n",
              "    \n",
              "</tr>\n",
              "        \n",
              "            <tr style=\"background-color: hsl(120, 100.00%, 87.31%); border: none;\">\n",
              "    <td style=\"padding: 0 1em 0 0.5em; text-align: right; border: none;\">\n",
              "        +5.477\n",
              "    </td>\n",
              "    <td style=\"padding: 0 0.5em 0 0.5em; text-align: left; border: none;\">\n",
              "        text__therefore\n",
              "    </td>\n",
              "    \n",
              "</tr>\n",
              "        \n",
              "            <tr style=\"background-color: hsl(120, 100.00%, 87.63%); border: none;\">\n",
              "    <td style=\"padding: 0 1em 0 0.5em; text-align: right; border: none;\">\n",
              "        +5.283\n",
              "    </td>\n",
              "    <td style=\"padding: 0 0.5em 0 0.5em; text-align: left; border: none;\">\n",
              "        text__yeah fuck\n",
              "    </td>\n",
              "    \n",
              "</tr>\n",
              "        \n",
              "            <tr style=\"background-color: hsl(120, 100.00%, 87.90%); border: none;\">\n",
              "    <td style=\"padding: 0 1em 0 0.5em; text-align: right; border: none;\">\n",
              "        +5.116\n",
              "    </td>\n",
              "    <td style=\"padding: 0 0.5em 0 0.5em; text-align: left; border: none;\">\n",
              "        text__shitlord\n",
              "    </td>\n",
              "    \n",
              "</tr>\n",
              "        \n",
              "            <tr style=\"background-color: hsl(120, 100.00%, 87.95%); border: none;\">\n",
              "    <td style=\"padding: 0 1em 0 0.5em; text-align: right; border: none;\">\n",
              "        +5.091\n",
              "    </td>\n",
              "    <td style=\"padding: 0 0.5em 0 0.5em; text-align: left; border: none;\">\n",
              "        text__or anything\n",
              "    </td>\n",
              "    \n",
              "</tr>\n",
              "        \n",
              "            <tr style=\"background-color: hsl(120, 100.00%, 88.00%); border: none;\">\n",
              "    <td style=\"padding: 0 1em 0 0.5em; text-align: right; border: none;\">\n",
              "        +5.057\n",
              "    </td>\n",
              "    <td style=\"padding: 0 0.5em 0 0.5em; text-align: left; border: none;\">\n",
              "        text__everyone knows\n",
              "    </td>\n",
              "    \n",
              "</tr>\n",
              "        \n",
              "        \n",
              "            <tr style=\"background-color: hsl(120, 100.00%, 88.00%); border: none;\">\n",
              "                <td colspan=\"2\" style=\"padding: 0 0.5em 0 0.5em; text-align: center; border: none; white-space: nowrap;\">\n",
              "                    <i>&hellip; 199169 more positive &hellip;</i>\n",
              "                </td>\n",
              "            </tr>\n",
              "        \n",
              "\n",
              "        \n",
              "            <tr style=\"background-color: hsl(0, 100.00%, 88.11%); border: none;\">\n",
              "                <td colspan=\"2\" style=\"padding: 0 0.5em 0 0.5em; text-align: center; border: none; white-space: nowrap;\">\n",
              "                    <i>&hellip; 187069 more negative &hellip;</i>\n",
              "                </td>\n",
              "            </tr>\n",
              "        \n",
              "        \n",
              "            <tr style=\"background-color: hsl(0, 100.00%, 88.11%); border: none;\">\n",
              "    <td style=\"padding: 0 1em 0 0.5em; text-align: right; border: none;\">\n",
              "        -4.989\n",
              "    </td>\n",
              "    <td style=\"padding: 0 0.5em 0 0.5em; text-align: left; border: none;\">\n",
              "        text__true but\n",
              "    </td>\n",
              "    \n",
              "</tr>\n",
              "        \n",
              "            <tr style=\"background-color: hsl(0, 100.00%, 87.53%); border: none;\">\n",
              "    <td style=\"padding: 0 1em 0 0.5em; text-align: right; border: none;\">\n",
              "        -5.341\n",
              "    </td>\n",
              "    <td style=\"padding: 0 0.5em 0 0.5em; text-align: left; border: none;\">\n",
              "        text__iirc\n",
              "    </td>\n",
              "    \n",
              "</tr>\n",
              "        \n",
              "\n",
              "        </tbody>\n",
              "    </table>\n",
              "\n",
              "            \n",
              "        \n",
              "\n",
              "        \n",
              "\n",
              "\n",
              "\n",
              "    \n",
              "\n",
              "    \n",
              "\n",
              "    \n",
              "\n",
              "    \n",
              "\n",
              "\n",
              "    \n",
              "\n",
              "    \n",
              "\n",
              "    \n",
              "\n",
              "    \n",
              "\n",
              "    \n",
              "\n",
              "    \n",
              "\n",
              "\n",
              "    \n",
              "\n",
              "    \n",
              "\n",
              "    \n",
              "\n",
              "    \n",
              "\n",
              "    \n",
              "\n",
              "    \n",
              "\n",
              "\n",
              "\n"
            ],
            "text/plain": [
              "<IPython.core.display.HTML object>"
            ]
          },
          "metadata": {
            "tags": []
          },
          "execution_count": 117
        }
      ]
    },
    {
      "cell_type": "markdown",
      "metadata": {
        "id": "grzSqsZ29FeO"
      },
      "source": [
        "So using tf-idf with bi-grams and a minimum df count of 3 seems to be a good representation for the data for now.\n",
        "\n",
        "Later on i'll try to use embeddings too and see if they add any significant gains"
      ]
    },
    {
      "cell_type": "markdown",
      "metadata": {
        "id": "LG_KhIK6Faso"
      },
      "source": [
        "#### Let's save this model as the best one for now, and move on to more sophisticated classifiers"
      ]
    },
    {
      "cell_type": "code",
      "metadata": {
        "id": "kbqJgSBf_KW0"
      },
      "source": [
        "scores = {\n",
        "  'Training' : 0.78497,\n",
        "  'Validation' : 0.72373,\n",
        "  'Test' : 0.72621 # Calculated this on another run\n",
        "}\n",
        "best_model_so_far = {\n",
        "    'name' : 'tf-idf bi-gram min-df-3 logit-regressor', # Name of the model\n",
        "    'pipeline_and_params' : (tfidf_lr_pipeline, {}), # A tuple containing a sklearn.Pipeline object and a parameters dict\n",
        "    'scores' : scores, # A dict of scores on each dataset\n",
        "    'time' : 74 # Training time in seconds\n",
        "}"
      ],
      "execution_count": 56,
      "outputs": []
    },
    {
      "cell_type": "code",
      "metadata": {
        "id": "e7g1BI3GOXHs"
      },
      "source": [
        "save_model_pipeline_and_info(best_model_so_far, file_name='best_model_so_far.pickle')"
      ],
      "execution_count": 63,
      "outputs": []
    },
    {
      "cell_type": "markdown",
      "metadata": {
        "id": "oFIMe5oYFu16"
      },
      "source": [
        "## Using better Classifiers on a Bi-Gram Tf-Idf with min_df of 3"
      ]
    },
    {
      "cell_type": "code",
      "metadata": {
        "id": "MgP6SKdYLZ8C"
      },
      "source": [
        "old_best_model_so_far = get_model_pipeline_and_info(file_name='best_model_so_far.pickle')\n",
        "best_model_so_far = dict(old_best_model_so_far)"
      ],
      "execution_count": null,
      "outputs": []
    },
    {
      "cell_type": "code",
      "metadata": {
        "id": "z-CDDiDfH0sh"
      },
      "source": [
        "ACCURACY_IMPROVEMENT_MARGIN = 0.03\n",
        "\n",
        "def is_model_fame_worthy(scores):\n",
        "  global best_model_so_far\n",
        "  return scores['Test'] >= (best_model_so_far['scores']['Test'] + ACCURACY_IMPROVEMENT_MARGIN)\n",
        "\n",
        "dict_of_fame = {\n",
        "    old_best_model_so_far['name'] : old_best_model_so_far['scores']\n",
        "    }"
      ],
      "execution_count": null,
      "outputs": []
    },
    {
      "cell_type": "code",
      "metadata": {
        "id": "2P7qyGp6qQ4C"
      },
      "source": [
        "def evaluate_model_pipelines(model_pipelines):\n",
        "  for name, (model_pipeline, fit_params) in model_pipelines.items():\n",
        "    print('\\n###########################################################################')\n",
        "    print('# Model type: {}'.format(name))\n",
        "    print('###########################################################################')\n",
        "    \n",
        "    # Train the model\n",
        "    fit_start = perf_counter()\n",
        "    model_pipeline.fit(df_train_for_clf, labels_train_for_clf, **fit_params)\n",
        "    fit_end = perf_counter()\n",
        "\n",
        "    # plot_model_performance(model_history)\n",
        "    \n",
        "    # Calculate the current model's performance and time\n",
        "    # fit time is in seconds\n",
        "    fit_time = fit_end - fit_start\n",
        "    fit_time_hours = int(fit_time / 60 / 60)\n",
        "    fit_time_minutes = int(fit_time / 60 )\n",
        "    fit_time_seconds = int(fit_time % 60)\n",
        "\n",
        "    print(\"Training time: {} hours, {} minutes, {} seconds\".format(fit_time_hours, fit_time_minutes, fit_time_seconds))\n",
        "\n",
        "    train_predictions = model_pipeline.predict(df_train_for_clf)\n",
        "    val_predictions = model_pipeline.predict(df_val_for_clf)\n",
        "    test_predictions = model_pipeline.predict(df_test_for_clf)\n",
        "\n",
        "    scores = {\n",
        "        'Training' : accuracy_score(labels_train_for_clf, train_predictions),\n",
        "        'Validation' : accuracy_score(labels_val_for_clf, val_predictions),\n",
        "        'Test' : accuracy_score(labels_test_for_clf, test_predictions)\n",
        "        }\n",
        "    for dataset_name, score in scores.items():\n",
        "      print (\"%s accuracy: %0.5f \" % (dataset_name, score))\n",
        "\n",
        "    if is_model_fame_worthy(scores):\n",
        "      global best_model_so_far\n",
        "      best_model_so_far = {\n",
        "          'name' : name, # Name of the model\n",
        "          'pipeline_and_params' : (model_pipeline, fit_params), # A tuple containing a sklearn.Pipeline object and a parameters dict\n",
        "          'scores' : scores, # A dict of scores on each dataset\n",
        "          'time' : fit_time # Training time in seconds\n",
        "          }\n",
        "      dict_of_fame[name] = scores\n",
        "\n",
        "  print('\\n@@@@@@@@@@@@@@@@@@@@@@@@@@@@@@@@@@@@@@@@@@@@@@@@@@@@@@@@@@@@@@@@@@@@@@@')\n",
        "  print('@ Best models roundup')\n",
        "  print('@@@@@@@@@@@@@@@@@@@@@@@@@@@@@@@@@@@@@@@@@@@@@@@@@@@@@@@@@@@@@@@@@@@@@@@')\n",
        "  for name, score in dict_of_fame.items():\n",
        "    print(f'Name: {name}\\n Scores: {score}')"
      ],
      "execution_count": null,
      "outputs": []
    },
    {
      "cell_type": "markdown",
      "metadata": {
        "id": "adovzumzYJpM"
      },
      "source": [
        "#### Classifiers"
      ]
    },
    {
      "cell_type": "code",
      "metadata": {
        "id": "X32-6u55YNum"
      },
      "source": [
        "tfv = TfidfVectorizer(ngram_range=(1, 2), min_df=3)\n",
        "text_preprocessor = ColumnTransformer(\n",
        "    transformers=[\n",
        "        ('text', tfv, TEXTUAL_COLUMNS)\n",
        "    ])\n",
        "\n",
        "# XGB and LightGBM common extra parameters\n",
        "text_preprocessor_for_fancy_clfs = ColumnTransformer(\n",
        "    transformers=[('Text', Pipeline([\n",
        "                                    ('tf-idf', tfv),\n",
        "                                    ('svd', TruncatedSVD(algorithm='randomized', n_components=700))\n",
        "                                    ]),\n",
        "                   TEXTUAL_COLUMNS\n",
        "                   )]\n",
        "    )\n",
        "\n",
        "EVAL_METRIC = 'logloss'\n",
        "\n",
        "# XGBoost and the like expect only numbers\n",
        "# So we'll convert the validation set in advance so we could use it for early stopping\n",
        "text_preprocessor_for_fancy_clfs.fit(df_train_for_clf)\n",
        "df_val_for_gb_clfs = text_preprocessor_for_fancy_clfs.transform(df_val_for_clf)\n",
        "\n",
        "EARLY_STOP_EVAL_SET = [(df_val_for_gb_clfs, labels_val_for_clf)]"
      ],
      "execution_count": null,
      "outputs": []
    },
    {
      "cell_type": "markdown",
      "metadata": {
        "id": "IIljsyDmcjnH"
      },
      "source": [
        "##### SVM"
      ]
    },
    {
      "cell_type": "code",
      "metadata": {
        "id": "YT19hVD3cjnJ"
      },
      "source": [
        "from sklearn.svm import SVC\n",
        "\n",
        "svc = SVC(gamma='auto', max_iter=400)\n",
        "fit_params = {}\n",
        "\n",
        "svc_pipeline = Pipeline([('tf_idf', text_preprocessor), \n",
        "                         ('SVM Classifer', svc)])\n",
        "\n",
        "model_pipes_to_evaluate['SVM Classifer with best tf-idf'] = (svc_pipeline, dict(fit_params))"
      ],
      "execution_count": null,
      "outputs": []
    },
    {
      "cell_type": "markdown",
      "metadata": {
        "id": "b6ipjhKXaNI5"
      },
      "source": [
        "##### Random Forest"
      ]
    },
    {
      "cell_type": "code",
      "metadata": {
        "id": "m8Jb44IgaNI7"
      },
      "source": [
        "from sklearn.ensemble import RandomForestClassifier\n",
        "\n",
        "rand_f = RandomForestClassifier(n_estimators=1000, n_jobs = -1)\n",
        "fit_params = {}\n",
        "\n",
        "rand_f_pipeline = Pipeline([('tf_idf', text_preprocessor), \n",
        "                         ('rand_forest', rand_f)])\n",
        "\n",
        "model_pipes_to_evaluate['Random Forest with best tf-idf'] = (rand_f_pipeline, dict(fit_params))"
      ],
      "execution_count": null,
      "outputs": []
    },
    {
      "cell_type": "markdown",
      "metadata": {
        "id": "_yVi6Ay-PEXN"
      },
      "source": [
        "##### XGBoost"
      ]
    },
    {
      "cell_type": "code",
      "metadata": {
        "id": "9oAr_hy5PJnk"
      },
      "source": [
        "xgbc = XGBClassifier(objective = 'binary:logistic',\n",
        "                     n_estimators = 1000,\n",
        "                     learning_rate = 0.01,\n",
        "                     n_jobs = -1,\n",
        "                     tree_method = 'gpu_hist')\n",
        "\n",
        "model_name = 'xgboost'\n",
        "fit_params = {\n",
        "    model_name + '__early_stopping_rounds' : 20,\n",
        "    model_name + '__eval_set' : EARLY_STOP_EVAL_SET, \n",
        "    model_name + '__eval_metric' : EVAL_METRIC,\n",
        "    model_name + '__verbose' : False\n",
        "}\n",
        "\n",
        "xgb_pipeline = Pipeline([('tf_idf', text_preprocessor_for_fancy_clfs), \n",
        "                         (model_name, xgbc)])\n",
        "model_pipes_to_evaluate['XGBRegressor with best tf-idf'] = (xgb_pipeline, dict(fit_params))"
      ],
      "execution_count": null,
      "outputs": []
    },
    {
      "cell_type": "markdown",
      "metadata": {
        "id": "T02M8vXUg35r"
      },
      "source": [
        "##### LightGBM"
      ]
    },
    {
      "cell_type": "code",
      "metadata": {
        "id": "2hh_7GlEg35w"
      },
      "source": [
        "lgbc = LGBMClassifier(n_estimators=1000, n_jobs = -1, objective = 'binary')\n",
        "\n",
        "model_name = 'LightGBM'\n",
        "fit_params = {\n",
        "    model_name + '__early_stopping_rounds' : 20,\n",
        "    model_name + '__eval_set' : EARLY_STOP_EVAL_SET, \n",
        "    model_name + '__eval_metric' : EVAL_METRIC,\n",
        "    model_name + '__verbose' : False\n",
        "}\n",
        "\n",
        "lgbc_pipeline = Pipeline([('tf_idf', text_preprocessor_for_fancy_clfs), \n",
        "                         (model_name, lgbc)])\n",
        "model_pipes_to_evaluate['LightGBM with best tf-idf'] = (lgbc_pipeline, dict(fit_params))"
      ],
      "execution_count": null,
      "outputs": []
    },
    {
      "cell_type": "markdown",
      "metadata": {
        "id": "u2Lu3OeYaDUy"
      },
      "source": [
        "#### And for the results:"
      ]
    },
    {
      "cell_type": "code",
      "metadata": {
        "id": "eJgx7MUJppPH",
        "outputId": "6ecec715-5cd5-4bba-faee-fe97d49bea67",
        "colab": {
          "base_uri": "https://localhost:8080/",
          "height": 663
        }
      },
      "source": [
        "evaluate_model_pipelines(model_pipes_to_evaluate)"
      ],
      "execution_count": null,
      "outputs": [
        {
          "output_type": "stream",
          "text": [
            "\n",
            "###########################################################################\n",
            "# Model type: SVM Classifer with best tf-idf\n",
            "###########################################################################\n",
            "Training time: 0 hours, 0 minutes, 0 seconds\n",
            "Training accuracy: 0.95000 \n",
            "Validation accuracy: 0.90000 \n",
            "Test accuracy: 0.90000 \n",
            "\n",
            "###########################################################################\n",
            "# Model type: Random Forest with best tf-idf\n",
            "###########################################################################\n",
            "Training time: 0 hours, 0 minutes, 1 seconds\n",
            "Training accuracy: 1.00000 \n",
            "Validation accuracy: 0.90000 \n",
            "Test accuracy: 0.90000 \n",
            "\n",
            "###########################################################################\n",
            "# Model type: XGBRegressor with best tf-idf\n",
            "###########################################################################\n",
            "Training time: 0 hours, 0 minutes, 0 seconds\n",
            "Training accuracy: 0.95000 \n",
            "Validation accuracy: 0.90000 \n",
            "Test accuracy: 0.90000 \n",
            "\n",
            "###########################################################################\n",
            "# Model type: LightGBM with best tf-idf\n",
            "###########################################################################\n",
            "Training time: 0 hours, 0 minutes, 0 seconds\n",
            "Training accuracy: 0.95000 \n",
            "Validation accuracy: 0.90000 \n",
            "Test accuracy: 0.90000 \n",
            "\n",
            "@@@@@@@@@@@@@@@@@@@@@@@@@@@@@@@@@@@@@@@@@@@@@@@@@@@@@@@@@@@@@@@@@@@@@@@\n",
            "@ Best models roundup\n",
            "@@@@@@@@@@@@@@@@@@@@@@@@@@@@@@@@@@@@@@@@@@@@@@@@@@@@@@@@@@@@@@@@@@@@@@@\n",
            "Name: tf-idf bi-gram min-df-3 logit-regressor\n",
            " Scores: {'Training': 0.78497, 'Validation': 0.72373, 'Test': 0.72621}\n"
          ],
          "name": "stdout"
        }
      ]
    },
    {
      "cell_type": "code",
      "metadata": {
        "id": "jWwhd4p6k3gF",
        "outputId": "f3b50276-e4cd-40b9-bcab-fb5f6b48534d",
        "colab": {
          "base_uri": "https://localhost:8080/",
          "height": 578
        }
      },
      "source": [
        "best_model_so_far"
      ],
      "execution_count": null,
      "outputs": [
        {
          "output_type": "execute_result",
          "data": {
            "text/plain": [
              "{'name': 'SVM Classifer with best tf-idf',\n",
              " 'pipeline_and_params': (Pipeline(memory=None,\n",
              "           steps=[('tf_idf',\n",
              "                   ColumnTransformer(n_jobs=None, remainder='drop',\n",
              "                                     sparse_threshold=0.3,\n",
              "                                     transformer_weights=None,\n",
              "                                     transformers=[('text',\n",
              "                                                    TfidfVectorizer(analyzer='word',\n",
              "                                                                    binary=False,\n",
              "                                                                    decode_error='strict',\n",
              "                                                                    dtype=<class 'numpy.float64'>,\n",
              "                                                                    encoding='utf-8',\n",
              "                                                                    input='content',\n",
              "                                                                    lowercase=True,\n",
              "                                                                    max_df=1.0,\n",
              "                                                                    max_features=None,\n",
              "                                                                    min_df=3,\n",
              "                                                                    ngram_range=(1,...\n",
              "                                                                    token_pattern='(?u)\\\\b\\\\w\\\\w+\\\\b',\n",
              "                                                                    tokenizer=None,\n",
              "                                                                    use_idf=True,\n",
              "                                                                    vocabulary=None),\n",
              "                                                    'processed comment')],\n",
              "                                     verbose=False)),\n",
              "                  ('SVM Classifer',\n",
              "                   SVC(C=1.0, break_ties=False, cache_size=200, class_weight=None,\n",
              "                       coef0=0.0, decision_function_shape='ovr', degree=3,\n",
              "                       gamma='auto', kernel='rbf', max_iter=400,\n",
              "                       probability=False, random_state=None, shrinking=True,\n",
              "                       tol=0.001, verbose=False))],\n",
              "           verbose=False), {}),\n",
              " 'scores': {'Test': 0.9, 'Training': 0.95, 'Validation': 0.9},\n",
              " 'time': 0.010725947000537417}"
            ]
          },
          "metadata": {
            "tags": []
          },
          "execution_count": 141
        }
      ]
    }
  ]
}