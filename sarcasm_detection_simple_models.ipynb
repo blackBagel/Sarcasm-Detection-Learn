{
  "nbformat": 4,
  "nbformat_minor": 0,
  "metadata": {
    "colab": {
      "name": "sarcasm_detection-simple_models.ipynb",
      "provenance": [],
      "collapsed_sections": [],
      "include_colab_link": true
    },
    "kernelspec": {
      "display_name": "Python 3",
      "language": "python",
      "name": "python3"
    },
    "language_info": {
      "codemirror_mode": {
        "name": "ipython",
        "version": 3
      },
      "file_extension": ".py",
      "mimetype": "text/x-python",
      "name": "python",
      "nbconvert_exporter": "python",
      "pygments_lexer": "ipython3",
      "version": "3.6.8"
    }
  },
  "cells": [
    {
      "cell_type": "markdown",
      "metadata": {
        "id": "view-in-github",
        "colab_type": "text"
      },
      "source": [
        "<a href=\"https://colab.research.google.com/github/blackBagel/Sarcasm-Detection-Learn/blob/main/sarcasm_detection_simple_models.ipynb\" target=\"_parent\"><img src=\"https://colab.research.google.com/assets/colab-badge.svg\" alt=\"Open In Colab\"/></a>"
      ]
    },
    {
      "cell_type": "code",
      "metadata": {
        "id": "mqllYLjHrLXf",
        "outputId": "ec24ba6b-51ce-42ff-c181-df5625aff0d7",
        "colab": {
          "base_uri": "https://localhost:8080/",
          "height": 272
        }
      },
      "source": [
        "! pip install -U eli5 clean-text"
      ],
      "execution_count": 4,
      "outputs": [
        {
          "output_type": "stream",
          "text": [
            "Requirement already up-to-date: eli5 in /usr/local/lib/python3.6/dist-packages (0.10.1)\n",
            "Requirement already up-to-date: clean-text in /usr/local/lib/python3.6/dist-packages (0.3.0)\n",
            "Requirement already satisfied, skipping upgrade: jinja2 in /usr/local/lib/python3.6/dist-packages (from eli5) (2.11.2)\n",
            "Requirement already satisfied, skipping upgrade: attrs>16.0.0 in /usr/local/lib/python3.6/dist-packages (from eli5) (20.2.0)\n",
            "Requirement already satisfied, skipping upgrade: scipy in /usr/local/lib/python3.6/dist-packages (from eli5) (1.4.1)\n",
            "Requirement already satisfied, skipping upgrade: graphviz in /usr/local/lib/python3.6/dist-packages (from eli5) (0.10.1)\n",
            "Requirement already satisfied, skipping upgrade: numpy>=1.9.0 in /usr/local/lib/python3.6/dist-packages (from eli5) (1.18.5)\n",
            "Requirement already satisfied, skipping upgrade: scikit-learn>=0.18 in /usr/local/lib/python3.6/dist-packages (from eli5) (0.22.2.post1)\n",
            "Requirement already satisfied, skipping upgrade: six in /usr/local/lib/python3.6/dist-packages (from eli5) (1.15.0)\n",
            "Requirement already satisfied, skipping upgrade: tabulate>=0.7.7 in /usr/local/lib/python3.6/dist-packages (from eli5) (0.8.7)\n",
            "Requirement already satisfied, skipping upgrade: ftfy<6.0,>=5.8 in /usr/local/lib/python3.6/dist-packages (from clean-text) (5.8)\n",
            "Requirement already satisfied, skipping upgrade: emoji in /usr/local/lib/python3.6/dist-packages (from clean-text) (0.6.0)\n",
            "Requirement already satisfied, skipping upgrade: MarkupSafe>=0.23 in /usr/local/lib/python3.6/dist-packages (from jinja2->eli5) (1.1.1)\n",
            "Requirement already satisfied, skipping upgrade: joblib>=0.11 in /usr/local/lib/python3.6/dist-packages (from scikit-learn>=0.18->eli5) (0.16.0)\n",
            "Requirement already satisfied, skipping upgrade: wcwidth in /usr/local/lib/python3.6/dist-packages (from ftfy<6.0,>=5.8->clean-text) (0.2.5)\n"
          ],
          "name": "stdout"
        }
      ]
    },
    {
      "cell_type": "code",
      "metadata": {
        "id": "E3Azf7jp10cF"
      },
      "source": [
        "from __future__ import print_function\n",
        "import pandas as pd\n",
        "import numpy as np\n",
        "import os\n",
        "from google.colab import drive\n",
        "from tqdm import tqdm\n",
        "from sklearn.model_selection import train_test_split\n",
        "import spacy\n",
        "import re\n",
        "from cleantext import clean\n",
        "from joblib import Parallel, delayed\n",
        "from sklearn import preprocessing, decomposition, model_selection, pipeline\n",
        "from sklearn.feature_extraction.text import TfidfVectorizer, CountVectorizer\n",
        "from sklearn.linear_model import LogisticRegression\n",
        "from sklearn.metrics import accuracy_score, precision_score, recall_score\n",
        "from sklearn.pipeline import Pipeline\n",
        "from sklearn.compose import ColumnTransformer\n",
        "import eli5\n",
        "import pickle\n",
        "from time import perf_counter\n",
        "import matplotlib.pyplot as plt\n",
        "%matplotlib inline"
      ],
      "execution_count": 61,
      "outputs": []
    },
    {
      "cell_type": "markdown",
      "metadata": {
        "id": "vo17lJdKI2U3"
      },
      "source": [
        "# Data preparation"
      ]
    },
    {
      "cell_type": "code",
      "metadata": {
        "id": "YwDkTHa3IXTV",
        "outputId": "1c2dfb0b-fc25-441f-f8a1-40e8047ba32d",
        "colab": {
          "base_uri": "https://localhost:8080/",
          "height": 34
        }
      },
      "source": [
        "DRIVE_PATH = '/gdrive/My Drive/Reddit sarcasm'\n",
        "drive.mount('/gdrive')\n",
        "os.chdir(DRIVE_PATH)"
      ],
      "execution_count": 6,
      "outputs": [
        {
          "output_type": "stream",
          "text": [
            "Drive already mounted at /gdrive; to attempt to forcibly remount, call drive.mount(\"/gdrive\", force_remount=True).\n"
          ],
          "name": "stdout"
        }
      ]
    },
    {
      "cell_type": "code",
      "metadata": {
        "id": "A_G25c4LINkx"
      },
      "source": [
        "DATA_COLUMNS = [\n",
        "    'label',\n",
        "    'comment',\n",
        "    'author',\n",
        "    'subreddit',\n",
        "    'score',\n",
        "    'ups',\n",
        "    'downs',\n",
        "    'date',\n",
        "    'created_utc',\n",
        "    'parent_comment'\n",
        "]\n",
        "\n",
        "full_comments_df = pd.read_csv(\"train-balanced-sarc.csv\", delimiter='\\t', names=DATA_COLUMNS)"
      ],
      "execution_count": 7,
      "outputs": []
    },
    {
      "cell_type": "markdown",
      "metadata": {
        "id": "eqR8bwMI93PU"
      },
      "source": [
        "## Methodology"
      ]
    },
    {
      "cell_type": "markdown",
      "metadata": {
        "id": "ZmnNj35QuNTH"
      },
      "source": [
        "First, let's see the data distributions"
      ]
    },
    {
      "cell_type": "code",
      "metadata": {
        "id": "Ki7ZyPskuWad",
        "outputId": "0a335d37-d864-4623-ccdd-e29c33d71910",
        "colab": {
          "base_uri": "https://localhost:8080/",
          "height": 298
        }
      },
      "source": [
        "full_comments_df.plot(kind='hist', y='label', title = 'Labels Distribution')"
      ],
      "execution_count": 8,
      "outputs": [
        {
          "output_type": "execute_result",
          "data": {
            "text/plain": [
              "<matplotlib.axes._subplots.AxesSubplot at 0x7f4f9c6d2198>"
            ]
          },
          "metadata": {
            "tags": []
          },
          "execution_count": 8
        },
        {
          "output_type": "display_data",
          "data": {
            "image/png": "[encoded data removed]",
            "text/plain": [
              "<Figure size 432x288 with 1 Axes>"
            ]
          },
          "metadata": {
            "tags": [],
            "needs_background": "light"
          }
        }
      ]
    },
    {
      "cell_type": "markdown",
      "metadata": {
        "id": "xp8nmrUIw1XY"
      },
      "source": [
        "The data is balanced with regard to the labels. Therefore, I'll use the accuracy metric to evaluate all future models.\n",
        "\n",
        "I prefer to evaluate all the models based primarily on accuracy. The data is well balanced and there is no actual buisiness problem i'm solving here, so there's not much of a need to specifically avoid either FPs or FNs.\n",
        "\n",
        "I will however keep the precision and recall scores of all models for future reference"
      ]
    },
    {
      "cell_type": "markdown",
      "metadata": {
        "id": "RAad69rm_5O-"
      },
      "source": [
        "#### Train-Validation-Test Split "
      ]
    },
    {
      "cell_type": "markdown",
      "metadata": {
        "id": "1ibCkqKJ88wY"
      },
      "source": [
        "The dataset is quite relatively large with about 1 million comments. For that reason, it is quite reasonable to use only 4% of the data as test and validation sets, since they'll still be 20k each.\n",
        "\n",
        "That way, we'll have lots of data to train on."
      ]
    },
    {
      "cell_type": "code",
      "metadata": {
        "id": "nX7ct9oLXFH2"
      },
      "source": [
        "TRAIN_VAL_RAND_STATE = 1\n",
        "VAL_TEST_RAND_STATE = 5\n",
        "TRAIN_TEST_SPLIT = 0.04\n",
        "VAL_TEST_SPLIT = 0.5\n",
        "\n",
        "comments_df_without_labels = full_comments_df.iloc[:, 1:]\n",
        "\n",
        "# We use the same train-test split to test all of the next models\n",
        "df_train, df_test, labels_train, labels_test = train_test_split(comments_df_without_labels,\n",
        "                                                                full_comments_df['label'],\n",
        "                                                                random_state=TRAIN_VAL_RAND_STATE,\n",
        "                                                                test_size=TRAIN_TEST_SPLIT,\n",
        "                                                                shuffle=True)\n",
        "\n",
        "df_val, df_test, labels_val, labels_test = train_test_split(df_test,\n",
        "                                                            labels_test,\n",
        "                                                            random_state=VAL_TEST_RAND_STATE,\n",
        "                                                            test_size=VAL_TEST_SPLIT,\n",
        "                                                            shuffle=True)"
      ],
      "execution_count": 9,
      "outputs": []
    },
    {
      "cell_type": "markdown",
      "metadata": {
        "id": "3TgiVb7wNQjc"
      },
      "source": [
        "Let's make sure the validation and test set have similar distributions"
      ]
    },
    {
      "cell_type": "code",
      "metadata": {
        "id": "zSuOoIfwCRko",
        "outputId": "2f5366a5-8a18-486e-f856-83b1be5fba14",
        "colab": {
          "base_uri": "https://localhost:8080/",
          "height": 297
        }
      },
      "source": [
        "fig, axes = plt.subplots(nrows=1,ncols=2,figsize=(8,4))\n",
        "\n",
        "labels_val.plot.hist(ax = axes[0], title='Validation Labels')\n",
        "labels_test.plot.hist(ax = axes[1], title='Test Labels')\n",
        "fig.tight_layout()"
      ],
      "execution_count": 10,
      "outputs": [
        {
          "output_type": "display_data",
          "data": {
            "image/png": "[encoded data removed]",
            "text/plain": [
              "<Figure size 576x288 with 2 Axes>"
            ]
          },
          "metadata": {
            "tags": [],
            "needs_background": "light"
          }
        }
      ]
    },
    {
      "cell_type": "markdown",
      "metadata": {
        "id": "dnUmivNMFlIC"
      },
      "source": [
        "#### Null handling"
      ]
    },
    {
      "cell_type": "code",
      "metadata": {
        "id": "ZaU1cGgkVTTr",
        "outputId": "b9bca042-2b52-4e89-f14c-99ee487acfe1",
        "colab": {
          "base_uri": "https://localhost:8080/",
          "height": 204
        }
      },
      "source": [
        "print(\"Nulls in training set:\")\n",
        "df_train.isnull().sum()"
      ],
      "execution_count": 11,
      "outputs": [
        {
          "output_type": "stream",
          "text": [
            "Nulls in training set:\n"
          ],
          "name": "stdout"
        },
        {
          "output_type": "execute_result",
          "data": {
            "text/plain": [
              "comment           51\n",
              "author             0\n",
              "subreddit          0\n",
              "score              0\n",
              "ups                0\n",
              "downs              0\n",
              "date               0\n",
              "created_utc        0\n",
              "parent_comment     0\n",
              "dtype: int64"
            ]
          },
          "metadata": {
            "tags": []
          },
          "execution_count": 11
        }
      ]
    },
    {
      "cell_type": "markdown",
      "metadata": {
        "id": "jlTUZog0s7IZ"
      },
      "source": [
        "Since I don't want to divide and reassemble the data and the labels each time i apply a function to both, i'll simply create a function that applies row based functions to them and handles the dividing and reassembling for me"
      ]
    },
    {
      "cell_type": "code",
      "metadata": {
        "id": "RBZwEjEYdxFj"
      },
      "source": [
        "def handle_row_dropping_functions(df, labels, row_dropping_funcs={}):\n",
        "  \"\"\"\n",
        "  Applies data munging functions that may drop rows in the dataset\n",
        "  This function makes sure the corresponding labels of each dropped row is deleted as well\n",
        "\n",
        "  Parameters\n",
        "  ----------\n",
        "  df : pandas DataFrame\n",
        "      The dataset to apply the functions on\n",
        "  labels : pandas Series\n",
        "      The corresponding labels of the dataset\n",
        "  row_dropping_funcs : Dict\n",
        "      A dictionary containing functions as keys\n",
        "      and any parameters necessary for them (except the df!) as values\n",
        "\n",
        "  Returns\n",
        "  -------\n",
        "  new_df\n",
        "      The recieved DF after being handled the fucntions\n",
        "  new_labels:\n",
        "      The labels for the df, without the dropped rows\n",
        "  \"\"\"\n",
        "\n",
        "  # Combine data and labels based on their index\n",
        "  new_df = df.copy()\n",
        "  new_labels = labels.copy()\n",
        "  new_df['label'] = new_labels\n",
        "  \n",
        "  # Apply row dropping functions\n",
        "  for row_dropping_func, func_params in row_dropping_funcs.items():\n",
        "    func_params['df'] = new_df\n",
        "    new_df = row_dropping_func(**func_params)\n",
        "  \n",
        "  # Return the updated datasets as they were before\n",
        "  new_labels = new_df['label']\n",
        "  new_df = new_df.drop(columns = ['label'])\n",
        "\n",
        "  return new_df, new_labels"
      ],
      "execution_count": 12,
      "outputs": []
    },
    {
      "cell_type": "code",
      "metadata": {
        "id": "F-cgrlu4OKxT"
      },
      "source": [
        "def handle_nulls(**kwargs):\n",
        "  \"\"\"\n",
        "  Returns the df without rows where some columns are null\n",
        "  Right now could have been done without a function,\n",
        "  but useful for encapsulating more complex null handling situations in the future\n",
        "\n",
        "  Parameters\n",
        "  ----------\n",
        "  df : pandas DataFrame\n",
        "      The dataset to drop NaNs from\n",
        "  unfixable_columns : list\n",
        "      The columns that need to be dropped if empty (default is an empty list)\n",
        "\n",
        "  Returns\n",
        "  -------\n",
        "  new_df\n",
        "      The recieved DF but with rows without null columns\n",
        "  \"\"\"\n",
        "\n",
        "  new_df = kwargs['df'].copy()\n",
        "  new_df = new_df.dropna(subset = kwargs['unfixable_columns'])\n",
        "  return new_df"
      ],
      "execution_count": 13,
      "outputs": []
    },
    {
      "cell_type": "code",
      "metadata": {
        "id": "RbwwENfYdATn"
      },
      "source": [
        "def nan_handle(df, labels):\n",
        "  new_df = df.copy()\n",
        "  new_labels = labels.copy()\n",
        "\n",
        "  # If the value of these columns is null, drop the row \n",
        "  COLUMNS_TO_DROP_BY = ['comment']\n",
        "\n",
        "  row_dropping_funcs = {\n",
        "      handle_nulls: { 'unfixable_columns': COLUMNS_TO_DROP_BY }\n",
        "      }\n",
        "\n",
        "  new_df, new_labels = handle_row_dropping_functions(new_df, new_labels, row_dropping_funcs)\n",
        "  return new_df, new_labels"
      ],
      "execution_count": 14,
      "outputs": []
    },
    {
      "cell_type": "markdown",
      "metadata": {
        "id": "NeT_OluY8I3G"
      },
      "source": [
        "#### Text cleaning - Comments only\n",
        "\n",
        "For starters, i'll only explore the comments themselves to see how much sarcasm can be inferred from the text alone.\n",
        "\n",
        "Later on i'll start engineering more features from the rest of the data to see how much the context matters for inferring sarcasm with this data"
      ]
    },
    {
      "cell_type": "markdown",
      "metadata": {
        "id": "DPlExkPR9pfX"
      },
      "source": [
        "Let's look at a sample from the text to see what we're handling with"
      ]
    },
    {
      "cell_type": "code",
      "metadata": {
        "id": "JOqAE9M28NM_",
        "outputId": "9c703edd-298b-4a9e-9e89-d4b8be7fa157",
        "colab": {
          "base_uri": "https://localhost:8080/",
          "height": 187
        }
      },
      "source": [
        "for index, text in enumerate(df_train['comment'][35:40]):\n",
        "  print('Comment {}:\\n {}'.format(index+1, text))"
      ],
      "execution_count": 15,
      "outputs": [
        {
          "output_type": "stream",
          "text": [
            "Comment 1:\n",
            " That Stormtrooper pumpkin looks awesome!\n",
            "Comment 2:\n",
            " Yeah, Barry will let this slide.\n",
            "Comment 3:\n",
            " Uh oh, Trigga Trey gonna get some revenge.\n",
            "Comment 4:\n",
            " fuck your opinion\n",
            "Comment 5:\n",
            " we know, but not to loud or the wackos will catch on\n"
          ],
          "name": "stdout"
        }
      ]
    },
    {
      "cell_type": "code",
      "metadata": {
        "id": "-z37Wec8J4Hi",
        "outputId": "60a32c81-92ad-4b53-8e85-25833be888cc",
        "colab": {
          "base_uri": "https://localhost:8080/",
          "height": 204
        }
      },
      "source": [
        "df_train.head()"
      ],
      "execution_count": 16,
      "outputs": [
        {
          "output_type": "execute_result",
          "data": {
            "text/html": [
              "<div>\n",
              "<style scoped>\n",
              "    .dataframe tbody tr th:only-of-type {\n",
              "        vertical-align: middle;\n",
              "    }\n",
              "\n",
              "    .dataframe tbody tr th {\n",
              "        vertical-align: top;\n",
              "    }\n",
              "\n",
              "    .dataframe thead th {\n",
              "        text-align: right;\n",
              "    }\n",
              "</style>\n",
              "<table border=\"1\" class=\"dataframe\">\n",
              "  <thead>\n",
              "    <tr style=\"text-align: right;\">\n",
              "      <th></th>\n",
              "      <th>comment</th>\n",
              "      <th>author</th>\n",
              "      <th>subreddit</th>\n",
              "      <th>score</th>\n",
              "      <th>ups</th>\n",
              "      <th>downs</th>\n",
              "      <th>date</th>\n",
              "      <th>created_utc</th>\n",
              "      <th>parent_comment</th>\n",
              "    </tr>\n",
              "  </thead>\n",
              "  <tbody>\n",
              "    <tr>\n",
              "      <th>62983</th>\n",
              "      <td>Agree with ya, it runs better on my 6years old...</td>\n",
              "      <td>GFlunk</td>\n",
              "      <td>PS3</td>\n",
              "      <td>1</td>\n",
              "      <td>1</td>\n",
              "      <td>0</td>\n",
              "      <td>2016-09</td>\n",
              "      <td>1474168109</td>\n",
              "      <td>I have that one. It sucks.</td>\n",
              "    </tr>\n",
              "    <tr>\n",
              "      <th>630544</th>\n",
              "      <td>Yeah, she works me like a rented mule every mo...</td>\n",
              "      <td>comaboy13</td>\n",
              "      <td>MMA</td>\n",
              "      <td>1</td>\n",
              "      <td>1</td>\n",
              "      <td>0</td>\n",
              "      <td>2015-07</td>\n",
              "      <td>1436594373</td>\n",
              "      <td>That's really good to know, she'll need it if ...</td>\n",
              "    </tr>\n",
              "    <tr>\n",
              "      <th>953886</th>\n",
              "      <td>Context?</td>\n",
              "      <td>BigBud77</td>\n",
              "      <td>pics</td>\n",
              "      <td>2</td>\n",
              "      <td>2</td>\n",
              "      <td>0</td>\n",
              "      <td>2013-05</td>\n",
              "      <td>1367543886</td>\n",
              "      <td>His best friend left today. Not sure if they w...</td>\n",
              "    </tr>\n",
              "    <tr>\n",
              "      <th>287968</th>\n",
              "      <td>Better quality and without this shit music on ...</td>\n",
              "      <td>Superdraw</td>\n",
              "      <td>formula1</td>\n",
              "      <td>1</td>\n",
              "      <td>1</td>\n",
              "      <td>0</td>\n",
              "      <td>2016-05</td>\n",
              "      <td>1462484952</td>\n",
              "      <td>Albers pulls off an a stunning move (Estoril 2...</td>\n",
              "    </tr>\n",
              "    <tr>\n",
              "      <th>972967</th>\n",
              "      <td>I'm so glad some redditors have taken it upon ...</td>\n",
              "      <td>BuyABowel</td>\n",
              "      <td>MensRights</td>\n",
              "      <td>3</td>\n",
              "      <td>3</td>\n",
              "      <td>0</td>\n",
              "      <td>2012-03</td>\n",
              "      <td>1331746883</td>\n",
              "      <td>Explanation requested in AskReddit about r/men...</td>\n",
              "    </tr>\n",
              "  </tbody>\n",
              "</table>\n",
              "</div>"
            ],
            "text/plain": [
              "                                                  comment  ...                                     parent_comment\n",
              "62983   Agree with ya, it runs better on my 6years old...  ...                         I have that one. It sucks.\n",
              "630544  Yeah, she works me like a rented mule every mo...  ...  That's really good to know, she'll need it if ...\n",
              "953886                                           Context?  ...  His best friend left today. Not sure if they w...\n",
              "287968  Better quality and without this shit music on ...  ...  Albers pulls off an a stunning move (Estoril 2...\n",
              "972967  I'm so glad some redditors have taken it upon ...  ...  Explanation requested in AskReddit about r/men...\n",
              "\n",
              "[5 rows x 9 columns]"
            ]
          },
          "metadata": {
            "tags": []
          },
          "execution_count": 16
        }
      ]
    },
    {
      "cell_type": "code",
      "metadata": {
        "id": "IAv1n5EEVHLX"
      },
      "source": [
        "NLP_ENGINES = {\n",
        "    'simple' : spacy.load(\"en_core_web_sm\", disable=['tagger', 'parser', 'ner']),\n",
        "    'POSs_and_deps' : spacy.load(\"en_core_web_sm\", disable=['ner'])\n",
        "}"
      ],
      "execution_count": 17,
      "outputs": []
    },
    {
      "cell_type": "code",
      "metadata": {
        "id": "Jjy2NRjl3SST"
      },
      "source": [
        "def tokenize_and_clean_text(doc):\n",
        "  tokenized_processed_text = []\n",
        "  for token in doc: \n",
        "    cleaned_text = token.text.lower()\n",
        "    if token.is_currency:\n",
        "      cleaned_text = clean(cleaned_text, no_currency_symbols = True)\n",
        "    if token.is_digit:\n",
        "      cleaned_text = clean(cleaned_text, no_numbers = True)\n",
        "    if token.like_email:\n",
        "      cleaned_text = clean(cleaned_text, no_emails = True)\n",
        "    if token.like_url:\n",
        "      cleaned_text = clean(cleaned_text, no_urls = True)\n",
        "    \n",
        "    tokenized_processed_text.append(cleaned_text)\n",
        "  \n",
        "  return tokenized_processed_text"
      ],
      "execution_count": 18,
      "outputs": []
    },
    {
      "cell_type": "code",
      "metadata": {
        "id": "weaHzGQSNi0V"
      },
      "source": [
        "def simple_text_processing(text):\n",
        "  # spaCy will only handle contractions and will just tokenize the data in general\n",
        "  nlp_engine = NLP_ENGINES['simple']\n",
        "  doc = nlp_engine(text)\n",
        "\n",
        "  ############################ TBD\n",
        "  # Somewhere along the way, the returned list's objects are objects that are not strings per ce...\n",
        "  # A conversion here solves it, but it's probably worth investigating in the future\n",
        "  return str(tokenize_and_clean_text(doc))"
      ],
      "execution_count": 19,
      "outputs": []
    },
    {
      "cell_type": "code",
      "metadata": {
        "id": "q5cNehPtPlgU"
      },
      "source": [
        "def add_simple_processing_columns(df, from_where='scratch', file_path = None):\n",
        "  new_df = df.copy()\n",
        "  if file_path is not None: \n",
        "    if from_where == 'scratch':\n",
        "      new_df['processed comment'] = new_df['comment'].apply(lambda comment: simple_text_processing(comment))\n",
        "      new_df.to_csv(file_path)\n",
        "    elif from_where == 'file':\n",
        "      new_df_processed = pd.read_csv(file_path, usecols = ['processed comment'])\n",
        "      new_df_processed.index = new_df.index\n",
        "      new_df = new_df.merge(new_df_processed, how='left', left_index = True, right_index = True) \n",
        "    else:\n",
        "      print('No new features. You haven\\'t entered a valid feature source')\n",
        "\n",
        "  return new_df"
      ],
      "execution_count": 20,
      "outputs": []
    },
    {
      "cell_type": "code",
      "metadata": {
        "id": "UUqsYI4MHXQo"
      },
      "source": [
        "def preprocess_df(df, labels, extra_features_from, extra_features_file_path):\n",
        "  new_df = df.copy()\n",
        "  new_labels = labels.copy()  \n",
        "\n",
        "  new_df, new_labels = nan_handle(new_df, new_labels)\n",
        "  new_df = add_simple_processing_columns(new_df,\n",
        "                                         from_where = extra_features_from,\n",
        "                                         file_path = extra_features_file_path)\n",
        "\n",
        "  return new_df, new_labels"
      ],
      "execution_count": 21,
      "outputs": []
    },
    {
      "cell_type": "code",
      "metadata": {
        "id": "p_uZf5JgHSk3"
      },
      "source": [
        "full_df_train_for_clf, labels_train_for_clf = preprocess_df(df_train, labels_train,\n",
        "                                                            extra_features_from = 'file',\n",
        "                                                            extra_features_file_path = 'POSs_and_deps_for_train_state_1.csv')"
      ],
      "execution_count": 22,
      "outputs": []
    },
    {
      "cell_type": "code",
      "metadata": {
        "id": "g2KdKs6XXXHP",
        "outputId": "27ba88e2-e909-4831-f062-7d8a80cd527f",
        "colab": {
          "base_uri": "https://localhost:8080/",
          "height": 187
        }
      },
      "source": [
        "for index, text in enumerate(full_df_train_for_clf['processed comment'][35:40]):\n",
        "  print('Comment {}:\\n {}'.format(index+1, text))"
      ],
      "execution_count": 23,
      "outputs": [
        {
          "output_type": "stream",
          "text": [
            "Comment 1:\n",
            " ['that', 'stormtrooper', 'pumpkin', 'looks', 'awesome', '!']\n",
            "Comment 2:\n",
            " ['yeah', ',', 'barry', 'will', 'let', 'this', 'slide', '.']\n",
            "Comment 3:\n",
            " ['uh', 'oh', ',', 'trigga', 'trey', 'gon', 'na', 'get', 'some', 'revenge', '.']\n",
            "Comment 4:\n",
            " ['fuck', 'your', 'opinion']\n",
            "Comment 5:\n",
            " ['we', 'know', ',', 'but', 'not', 'to', 'loud', 'or', 'the', 'wackos', 'will', 'catch', 'on']\n"
          ],
          "name": "stdout"
        }
      ]
    },
    {
      "cell_type": "markdown",
      "metadata": {
        "id": "hEskcbTYJfqH"
      },
      "source": [
        "# Model Research Process - Comments Only"
      ]
    },
    {
      "cell_type": "markdown",
      "metadata": {
        "id": "DjhEt9PYEwHH"
      },
      "source": [
        "#### Preprocess the validation and test datasets"
      ]
    },
    {
      "cell_type": "code",
      "metadata": {
        "id": "sJNIPpKuJfUm"
      },
      "source": [
        "full_df_val_for_clf, labels_val_for_clf = preprocess_df(df_val, labels_val,\n",
        "                                                   extra_features_from = 'file',\n",
        "                                                   extra_features_file_path = 'validation_processed_for_rand_state_{}.csv'.format(VAL_TEST_RAND_STATE))\n",
        "full_df_test_for_clf, labels_test_for_clf = preprocess_df(df_test, labels_test,\n",
        "                                                     extra_features_from = 'file',\n",
        "                                                     extra_features_file_path = 'test_processed_for_rand_state_{}.csv'.format(VAL_TEST_RAND_STATE))"
      ],
      "execution_count": 24,
      "outputs": []
    },
    {
      "cell_type": "markdown",
      "metadata": {
        "id": "oFvpouHVJjG7"
      },
      "source": [
        "## We begin our research by trying out a basic logistic regression model on only a simple tokenized comment"
      ]
    },
    {
      "cell_type": "code",
      "metadata": {
        "id": "WU4Bn3dF35cf"
      },
      "source": [
        "FEATURES_TO_CLASSIFY_BY = ['processed comment']\n",
        "df_train_for_clf = full_df_train_for_clf[FEATURES_TO_CLASSIFY_BY]\n",
        "df_val_for_clf = full_df_val_for_clf[FEATURES_TO_CLASSIFY_BY]\n",
        "df_test_for_clf = full_df_test_for_clf[FEATURES_TO_CLASSIFY_BY]"
      ],
      "execution_count": 25,
      "outputs": []
    },
    {
      "cell_type": "code",
      "metadata": {
        "id": "gWfnvrvOAhO6"
      },
      "source": [
        "TEXTUAL_COLUMNS = 'processed comment'\n",
        "model_pipes_to_evaluate = {}\n",
        "MODELS_FOLDER = './models'"
      ],
      "execution_count": 26,
      "outputs": []
    },
    {
      "cell_type": "code",
      "metadata": {
        "id": "m9IzfoDNMW12"
      },
      "source": [
        "def save_model_pipeline_and_info(model_pipe_and_info, file_name):\n",
        "  full_path = os.path.join(MODELS_FOLDER, file_name)\n",
        "  with open(full_path, 'wb') as model_pipeline_and_info_file:\n",
        "    pickle.dump(model_pipe_and_info, model_pipeline_and_info_file)\n",
        "            \n",
        "def get_model_pipeline_and_info(file_name):\n",
        "  full_path = os.path.join(MODELS_FOLDER, file_name)\n",
        "  if os.path.exists(full_path):\n",
        "    with open(full_path, 'rb') as model_pipeline_and_info_file:\n",
        "      model_pipe_and_info = pickle.load(model_pipeline_and_info_file)\n",
        "  else:\n",
        "      return None\n",
        "  return model_pipe_and_info"
      ],
      "execution_count": null,
      "outputs": []
    },
    {
      "cell_type": "markdown",
      "metadata": {
        "id": "IhCmO3fvV3lE"
      },
      "source": [
        "### First, a relatively primitive count vectorizer of the comments"
      ]
    },
    {
      "cell_type": "code",
      "metadata": {
        "id": "961AIbjXWYpT"
      },
      "source": [
        "# I'll assume a word that doesn't appear at least thrice, is probably too specific to care about\n",
        "ctv = CountVectorizer(min_df = 3)\n",
        "text_preprocessor = ColumnTransformer(\n",
        "    transformers=[\n",
        "        ('text', ctv, TEXTUAL_COLUMNS)\n",
        "    ])\n",
        "log_reg_ctv_clf = LogisticRegression(solver='saga', C=1, n_jobs=-1, verbose=False, max_iter=300)\n",
        "ctv_lr_pipeline = Pipeline([('counter', text_preprocessor), \n",
        "                            ('logitRegressor', log_reg_ctv_clf)])"
      ],
      "execution_count": null,
      "outputs": []
    },
    {
      "cell_type": "code",
      "metadata": {
        "id": "79CZ5F5UWZ_Z",
        "outputId": "8536523c-2ed6-4576-f6d2-d8606a4f874f",
        "colab": {
          "base_uri": "https://localhost:8080/",
          "height": 629
        }
      },
      "source": [
        "%%time\n",
        "ctv_lr_pipeline.fit(df_train_for_clf, labels_train_for_clf)"
      ],
      "execution_count": null,
      "outputs": [
        {
          "output_type": "stream",
          "text": [
            "/usr/local/lib/python3.6/dist-packages/sklearn/linear_model/_sag.py:330: ConvergenceWarning: The max_iter was reached which means the coef_ did not converge\n",
            "  \"the coef_ did not converge\", ConvergenceWarning)\n"
          ],
          "name": "stderr"
        },
        {
          "output_type": "stream",
          "text": [
            "CPU times: user 6min 6s, sys: 359 ms, total: 6min 6s\n",
            "Wall time: 4min 41s\n"
          ],
          "name": "stdout"
        },
        {
          "output_type": "execute_result",
          "data": {
            "text/plain": [
              "Pipeline(memory=None,\n",
              "         steps=[('counter',\n",
              "                 ColumnTransformer(n_jobs=None, remainder='drop',\n",
              "                                   sparse_threshold=0.3,\n",
              "                                   transformer_weights=None,\n",
              "                                   transformers=[('text',\n",
              "                                                  CountVectorizer(analyzer='word',\n",
              "                                                                  binary=False,\n",
              "                                                                  decode_error='strict',\n",
              "                                                                  dtype=<class 'numpy.int64'>,\n",
              "                                                                  encoding='utf-8',\n",
              "                                                                  input='content',\n",
              "                                                                  lowercase=True,\n",
              "                                                                  max_df=1.0,\n",
              "                                                                  max_features=None,\n",
              "                                                                  min_df=3,\n",
              "                                                                  ngram_range=(1,\n",
              "                                                                               1...\n",
              "                                                                  token_pattern='(?u)\\\\b\\\\w\\\\w+\\\\b',\n",
              "                                                                  tokenizer=None,\n",
              "                                                                  vocabulary=None),\n",
              "                                                  'processed comment')],\n",
              "                                   verbose=False)),\n",
              "                ('logitRegressor',\n",
              "                 LogisticRegression(C=1, class_weight=None, dual=False,\n",
              "                                    fit_intercept=True, intercept_scaling=1,\n",
              "                                    l1_ratio=None, max_iter=300,\n",
              "                                    multi_class='auto', n_jobs=-1, penalty='l2',\n",
              "                                    random_state=None, solver='saga',\n",
              "                                    tol=0.0001, verbose=False,\n",
              "                                    warm_start=False))],\n",
              "         verbose=False)"
            ]
          },
          "metadata": {
            "tags": []
          },
          "execution_count": 109
        }
      ]
    },
    {
      "cell_type": "code",
      "metadata": {
        "id": "ZrADpSmwWzsb",
        "outputId": "6b4182fd-3b83-4336-8912-b3c297200e46",
        "colab": {
          "base_uri": "https://localhost:8080/",
          "height": 51
        }
      },
      "source": [
        "# Logistic Regressor has a ready score function that returns the accuracy of the model on another dataset\n",
        "print (\"Training accuracy: %0.5f \" % ctv_lr_pipeline.score(df_train_for_clf, labels_train_for_clf))\n",
        "print (\"Validation accuracy: %0.5f \" % ctv_lr_pipeline.score(df_val_for_clf, labels_val_for_clf))"
      ],
      "execution_count": null,
      "outputs": [
        {
          "output_type": "stream",
          "text": [
            "Training accuracy: 0.64346 \n",
            "Validation accuracy: 0.63717 \n"
          ],
          "name": "stdout"
        }
      ]
    },
    {
      "cell_type": "markdown",
      "metadata": {
        "id": "1hBZQyhDXZqV"
      },
      "source": [
        "### We also test a basic tf-idf vector"
      ]
    },
    {
      "cell_type": "code",
      "metadata": {
        "id": "1UkKmNJ8KytE"
      },
      "source": [
        "# We'll first try to create a simple baseline model\n",
        "# Our baseline model will be a logistic regression model, which we'll train on the unigram tf_idf vectors of the original comments text \n",
        "tfv = TfidfVectorizer(min_df = 3)\n",
        "text_preprocessor = ColumnTransformer(\n",
        "    transformers=[\n",
        "        ('text', tfv, TEXTUAL_COLUMNS)\n",
        "    ])\n",
        "lr_tfidf_clf = LogisticRegression(solver='saga', n_jobs=-1, verbose=False, max_iter=300)\n",
        "\n",
        "tfidf_lr_pipeline = Pipeline([('tf_idf', text_preprocessor), \n",
        "                                 ('logitRegressor', lr_tfidf_clf)])"
      ],
      "execution_count": null,
      "outputs": []
    },
    {
      "cell_type": "code",
      "metadata": {
        "id": "mbcU2CtBlLGa",
        "outputId": "0530abdf-3e2e-4ad4-bae0-7e6252c241f7",
        "colab": {
          "base_uri": "https://localhost:8080/",
          "height": 578
        }
      },
      "source": [
        "%%time\n",
        "tfidf_lr_pipeline.fit(df_train_for_clf, labels_train_for_clf)"
      ],
      "execution_count": null,
      "outputs": [
        {
          "output_type": "stream",
          "text": [
            "CPU times: user 34.6 s, sys: 28 ms, total: 34.7 s\n",
            "Wall time: 34.7 s\n"
          ],
          "name": "stdout"
        },
        {
          "output_type": "execute_result",
          "data": {
            "text/plain": [
              "Pipeline(memory=None,\n",
              "         steps=[('tf_idf',\n",
              "                 ColumnTransformer(n_jobs=None, remainder='drop',\n",
              "                                   sparse_threshold=0.3,\n",
              "                                   transformer_weights=None,\n",
              "                                   transformers=[('text',\n",
              "                                                  TfidfVectorizer(analyzer='word',\n",
              "                                                                  binary=False,\n",
              "                                                                  decode_error='strict',\n",
              "                                                                  dtype=<class 'numpy.float64'>,\n",
              "                                                                  encoding='utf-8',\n",
              "                                                                  input='content',\n",
              "                                                                  lowercase=True,\n",
              "                                                                  max_df=1.0,\n",
              "                                                                  max_features=None,\n",
              "                                                                  min_df=3,\n",
              "                                                                  ngram_range=(1,...\n",
              "                                                                  tokenizer=None,\n",
              "                                                                  use_idf=True,\n",
              "                                                                  vocabulary=None),\n",
              "                                                  'processed comment')],\n",
              "                                   verbose=False)),\n",
              "                ('logitRegressor',\n",
              "                 LogisticRegression(C=1.0, class_weight=None, dual=False,\n",
              "                                    fit_intercept=True, intercept_scaling=1,\n",
              "                                    l1_ratio=None, max_iter=300,\n",
              "                                    multi_class='auto', n_jobs=-1, penalty='l2',\n",
              "                                    random_state=None, solver='saga',\n",
              "                                    tol=0.0001, verbose=False,\n",
              "                                    warm_start=False))],\n",
              "         verbose=False)"
            ]
          },
          "metadata": {
            "tags": []
          },
          "execution_count": 112
        }
      ]
    },
    {
      "cell_type": "code",
      "metadata": {
        "id": "YkaRSFgSlNh0",
        "outputId": "84e96ad4-1198-4109-c2d0-686d46fcd86b",
        "colab": {
          "base_uri": "https://localhost:8080/",
          "height": 51
        }
      },
      "source": [
        "print (\"Training accuracy: %0.5f \" % tfidf_lr_pipeline.score(df_train_for_clf, labels_train_for_clf))\n",
        "print (\"Validation accuracy: %0.5f \" % tfidf_lr_pipeline.score(df_val_for_clf, labels_val_for_clf))"
      ],
      "execution_count": null,
      "outputs": [
        {
          "output_type": "stream",
          "text": [
            "Training accuracy: 0.71713 \n",
            "Validation accuracy: 0.69158 \n"
          ],
          "name": "stdout"
        }
      ]
    },
    {
      "cell_type": "markdown",
      "metadata": {
        "id": "LJY5hYrFXgrG"
      },
      "source": [
        "### We try a more sophisticated tf-idf vector"
      ]
    },
    {
      "cell_type": "code",
      "metadata": {
        "id": "VDp5qv7mLQaq"
      },
      "source": [
        "# Now let's try to run the same model, but on a more sophisticated tf-idf \n",
        "# This vectorizor is trained on both unigrams and bigrams, and only considers words that were used at least twice\n",
        "tfv = TfidfVectorizer(ngram_range=(1, 2), min_df=3)\n",
        "text_preprocessor = ColumnTransformer(\n",
        "    transformers=[\n",
        "        ('text', tfv, TEXTUAL_COLUMNS)\n",
        "    ])\n",
        "lr_tfidf_clf = LogisticRegression(solver='saga', n_jobs=-1, verbose=False, max_iter=300)\n",
        "\n",
        "tfidf_lr_pipeline = Pipeline([('tf_idf', text_preprocessor), \n",
        "                              ('logitRegressor', lr_tfidf_clf)])"
      ],
      "execution_count": 27,
      "outputs": []
    },
    {
      "cell_type": "code",
      "metadata": {
        "id": "-BmVM_nWVEjb",
        "outputId": "b3458c54-eefb-4efb-cfa3-4253455e9ef9",
        "colab": {
          "base_uri": "https://localhost:8080/",
          "height": 578
        }
      },
      "source": [
        "%%time\n",
        "tfidf_lr_pipeline.fit(df_train_for_clf, labels_train_for_clf)"
      ],
      "execution_count": null,
      "outputs": [
        {
          "output_type": "stream",
          "text": [
            "CPU times: user 1min 13s, sys: 850 ms, total: 1min 14s\n",
            "Wall time: 1min 14s\n"
          ],
          "name": "stdout"
        },
        {
          "output_type": "execute_result",
          "data": {
            "text/plain": [
              "Pipeline(memory=None,\n",
              "         steps=[('tf_idf',\n",
              "                 ColumnTransformer(n_jobs=None, remainder='drop',\n",
              "                                   sparse_threshold=0.3,\n",
              "                                   transformer_weights=None,\n",
              "                                   transformers=[('text',\n",
              "                                                  TfidfVectorizer(analyzer='word',\n",
              "                                                                  binary=False,\n",
              "                                                                  decode_error='strict',\n",
              "                                                                  dtype=<class 'numpy.float64'>,\n",
              "                                                                  encoding='utf-8',\n",
              "                                                                  input='content',\n",
              "                                                                  lowercase=True,\n",
              "                                                                  max_df=1.0,\n",
              "                                                                  max_features=None,\n",
              "                                                                  min_df=3,\n",
              "                                                                  ngram_range=(1,...\n",
              "                                                                  tokenizer=None,\n",
              "                                                                  use_idf=True,\n",
              "                                                                  vocabulary=None),\n",
              "                                                  'processed comment')],\n",
              "                                   verbose=False)),\n",
              "                ('logitRegressor',\n",
              "                 LogisticRegression(C=1.0, class_weight=None, dual=False,\n",
              "                                    fit_intercept=True, intercept_scaling=1,\n",
              "                                    l1_ratio=None, max_iter=300,\n",
              "                                    multi_class='auto', n_jobs=-1, penalty='l2',\n",
              "                                    random_state=None, solver='saga',\n",
              "                                    tol=0.0001, verbose=False,\n",
              "                                    warm_start=False))],\n",
              "         verbose=False)"
            ]
          },
          "metadata": {
            "tags": []
          },
          "execution_count": 115
        }
      ]
    },
    {
      "cell_type": "code",
      "metadata": {
        "id": "eefMkLZWVGDB",
        "outputId": "79aae77a-1b7c-45f9-b759-a9dae4bc3059",
        "colab": {
          "base_uri": "https://localhost:8080/",
          "height": 51
        }
      },
      "source": [
        "print (\"Training accuracy: %0.5f \" % tfidf_lr_pipeline.score(df_train_for_clf, labels_train_for_clf))\n",
        "print (\"Validation accuracy: %0.5f \" % tfidf_lr_pipeline.score(df_val_for_clf, labels_val_for_clf))"
      ],
      "execution_count": null,
      "outputs": [
        {
          "output_type": "stream",
          "text": [
            "Training accuracy: 0.78497 \n",
            "Validation accuracy: 0.72373 \n"
          ],
          "name": "stdout"
        }
      ]
    },
    {
      "cell_type": "code",
      "metadata": {
        "id": "fqOkWA0NVTBI",
        "outputId": "5bad085b-1513-4334-f096-0bd6bdfe647a",
        "colab": {
          "base_uri": "https://localhost:8080/",
          "height": 464
        }
      },
      "source": [
        "# Because it was te best model we tried to understand better what affected his performance\n",
        "eli5.show_weights(estimator=tfidf_lr_pipeline.named_steps['logitRegressor'],\n",
        "                  vec=tfidf_lr_pipeline.named_steps['tf_idf'])"
      ],
      "execution_count": null,
      "outputs": [
        {
          "output_type": "execute_result",
          "data": {
            "text/html": [
              "\n",
              "    <style>\n",
              "    table.eli5-weights tr:hover {\n",
              "        filter: brightness(85%);\n",
              "    }\n",
              "</style>\n",
              "\n",
              "\n",
              "\n",
              "    \n",
              "\n",
              "    \n",
              "\n",
              "    \n",
              "\n",
              "    \n",
              "\n",
              "    \n",
              "\n",
              "    \n",
              "\n",
              "\n",
              "    \n",
              "\n",
              "    \n",
              "\n",
              "    \n",
              "\n",
              "    \n",
              "        \n",
              "\n",
              "    \n",
              "\n",
              "        \n",
              "            \n",
              "                \n",
              "                \n",
              "    \n",
              "        <p style=\"margin-bottom: 0.5em; margin-top: 0em\">\n",
              "            <b>\n",
              "    \n",
              "        y=1\n",
              "    \n",
              "</b>\n",
              "\n",
              "top features\n",
              "        </p>\n",
              "    \n",
              "    <table class=\"eli5-weights\"\n",
              "           style=\"border-collapse: collapse; border: none; margin-top: 0em; table-layout: auto; margin-bottom: 2em;\">\n",
              "        <thead>\n",
              "        <tr style=\"border: none;\">\n",
              "            \n",
              "                <th style=\"padding: 0 1em 0 0.5em; text-align: right; border: none;\" title=\"Feature weights. Note that weights do not account for feature value scales, so if feature values have different scales, features with highest weights might not be the most important.\">\n",
              "                    Weight<sup>?</sup>\n",
              "                </th>\n",
              "            \n",
              "            <th style=\"padding: 0 0.5em 0 0.5em; text-align: left; border: none;\">Feature</th>\n",
              "            \n",
              "        </tr>\n",
              "        </thead>\n",
              "        <tbody>\n",
              "        \n",
              "            <tr style=\"background-color: hsl(120, 100.00%, 80.00%); border: none;\">\n",
              "    <td style=\"padding: 0 1em 0 0.5em; text-align: right; border: none;\">\n",
              "        +10.494\n",
              "    </td>\n",
              "    <td style=\"padding: 0 0.5em 0 0.5em; text-align: left; border: none;\">\n",
              "        text__yes because\n",
              "    </td>\n",
              "    \n",
              "</tr>\n",
              "        \n",
              "            <tr style=\"background-color: hsl(120, 100.00%, 82.06%); border: none;\">\n",
              "    <td style=\"padding: 0 1em 0 0.5em; text-align: right; border: none;\">\n",
              "        +8.981\n",
              "    </td>\n",
              "    <td style=\"padding: 0 0.5em 0 0.5em; text-align: left; border: none;\">\n",
              "        text__obviously\n",
              "    </td>\n",
              "    \n",
              "</tr>\n",
              "        \n",
              "            <tr style=\"background-color: hsl(120, 100.00%, 82.32%); border: none;\">\n",
              "    <td style=\"padding: 0 1em 0 0.5em; text-align: right; border: none;\">\n",
              "        +8.798\n",
              "    </td>\n",
              "    <td style=\"padding: 0 0.5em 0 0.5em; text-align: left; border: none;\">\n",
              "        text__clearly\n",
              "    </td>\n",
              "    \n",
              "</tr>\n",
              "        \n",
              "            <tr style=\"background-color: hsl(120, 100.00%, 82.98%); border: none;\">\n",
              "    <td style=\"padding: 0 1em 0 0.5em; text-align: right; border: none;\">\n",
              "        +8.336\n",
              "    </td>\n",
              "    <td style=\"padding: 0 0.5em 0 0.5em; text-align: left; border: none;\">\n",
              "        text__totally\n",
              "    </td>\n",
              "    \n",
              "</tr>\n",
              "        \n",
              "            <tr style=\"background-color: hsl(120, 100.00%, 82.98%); border: none;\">\n",
              "    <td style=\"padding: 0 1em 0 0.5em; text-align: right; border: none;\">\n",
              "        +8.335\n",
              "    </td>\n",
              "    <td style=\"padding: 0 0.5em 0 0.5em; text-align: left; border: none;\">\n",
              "        text__yeah because\n",
              "    </td>\n",
              "    \n",
              "</tr>\n",
              "        \n",
              "            <tr style=\"background-color: hsl(120, 100.00%, 83.12%); border: none;\">\n",
              "    <td style=\"padding: 0 1em 0 0.5em; text-align: right; border: none;\">\n",
              "        +8.237\n",
              "    </td>\n",
              "    <td style=\"padding: 0 0.5em 0 0.5em; text-align: left; border: none;\">\n",
              "        text__because\n",
              "    </td>\n",
              "    \n",
              "</tr>\n",
              "        \n",
              "            <tr style=\"background-color: hsl(120, 100.00%, 85.08%); border: none;\">\n",
              "    <td style=\"padding: 0 1em 0 0.5em; text-align: right; border: none;\">\n",
              "        +6.903\n",
              "    </td>\n",
              "    <td style=\"padding: 0 0.5em 0 0.5em; text-align: left; border: none;\">\n",
              "        text__how dare\n",
              "    </td>\n",
              "    \n",
              "</tr>\n",
              "        \n",
              "            <tr style=\"background-color: hsl(120, 100.00%, 85.92%); border: none;\">\n",
              "    <td style=\"padding: 0 1em 0 0.5em; text-align: right; border: none;\">\n",
              "        +6.356\n",
              "    </td>\n",
              "    <td style=\"padding: 0 0.5em 0 0.5em; text-align: left; border: none;\">\n",
              "        text__good thing\n",
              "    </td>\n",
              "    \n",
              "</tr>\n",
              "        \n",
              "            <tr style=\"background-color: hsl(120, 100.00%, 86.32%); border: none;\">\n",
              "    <td style=\"padding: 0 1em 0 0.5em; text-align: right; border: none;\">\n",
              "        +6.100\n",
              "    </td>\n",
              "    <td style=\"padding: 0 0.5em 0 0.5em; text-align: left; border: none;\">\n",
              "        text__right because\n",
              "    </td>\n",
              "    \n",
              "</tr>\n",
              "        \n",
              "            <tr style=\"background-color: hsl(120, 100.00%, 86.91%); border: none;\">\n",
              "    <td style=\"padding: 0 1em 0 0.5em; text-align: right; border: none;\">\n",
              "        +5.725\n",
              "    </td>\n",
              "    <td style=\"padding: 0 0.5em 0 0.5em; text-align: left; border: none;\">\n",
              "        text__gee\n",
              "    </td>\n",
              "    \n",
              "</tr>\n",
              "        \n",
              "            <tr style=\"background-color: hsl(120, 100.00%, 86.93%); border: none;\">\n",
              "    <td style=\"padding: 0 1em 0 0.5em; text-align: right; border: none;\">\n",
              "        +5.717\n",
              "    </td>\n",
              "    <td style=\"padding: 0 0.5em 0 0.5em; text-align: left; border: none;\">\n",
              "        text__duh\n",
              "    </td>\n",
              "    \n",
              "</tr>\n",
              "        \n",
              "            <tr style=\"background-color: hsl(120, 100.00%, 87.12%); border: none;\">\n",
              "    <td style=\"padding: 0 1em 0 0.5em; text-align: right; border: none;\">\n",
              "        +5.594\n",
              "    </td>\n",
              "    <td style=\"padding: 0 0.5em 0 0.5em; text-align: left; border: none;\">\n",
              "        text__but thought\n",
              "    </td>\n",
              "    \n",
              "</tr>\n",
              "        \n",
              "            <tr style=\"background-color: hsl(120, 100.00%, 87.18%); border: none;\">\n",
              "    <td style=\"padding: 0 1em 0 0.5em; text-align: right; border: none;\">\n",
              "        +5.561\n",
              "    </td>\n",
              "    <td style=\"padding: 0 0.5em 0 0.5em; text-align: left; border: none;\">\n",
              "        text__fault\n",
              "    </td>\n",
              "    \n",
              "</tr>\n",
              "        \n",
              "            <tr style=\"background-color: hsl(120, 100.00%, 87.31%); border: none;\">\n",
              "    <td style=\"padding: 0 1em 0 0.5em; text-align: right; border: none;\">\n",
              "        +5.477\n",
              "    </td>\n",
              "    <td style=\"padding: 0 0.5em 0 0.5em; text-align: left; border: none;\">\n",
              "        text__therefore\n",
              "    </td>\n",
              "    \n",
              "</tr>\n",
              "        \n",
              "            <tr style=\"background-color: hsl(120, 100.00%, 87.63%); border: none;\">\n",
              "    <td style=\"padding: 0 1em 0 0.5em; text-align: right; border: none;\">\n",
              "        +5.283\n",
              "    </td>\n",
              "    <td style=\"padding: 0 0.5em 0 0.5em; text-align: left; border: none;\">\n",
              "        text__yeah fuck\n",
              "    </td>\n",
              "    \n",
              "</tr>\n",
              "        \n",
              "            <tr style=\"background-color: hsl(120, 100.00%, 87.90%); border: none;\">\n",
              "    <td style=\"padding: 0 1em 0 0.5em; text-align: right; border: none;\">\n",
              "        +5.116\n",
              "    </td>\n",
              "    <td style=\"padding: 0 0.5em 0 0.5em; text-align: left; border: none;\">\n",
              "        text__shitlord\n",
              "    </td>\n",
              "    \n",
              "</tr>\n",
              "        \n",
              "            <tr style=\"background-color: hsl(120, 100.00%, 87.95%); border: none;\">\n",
              "    <td style=\"padding: 0 1em 0 0.5em; text-align: right; border: none;\">\n",
              "        +5.091\n",
              "    </td>\n",
              "    <td style=\"padding: 0 0.5em 0 0.5em; text-align: left; border: none;\">\n",
              "        text__or anything\n",
              "    </td>\n",
              "    \n",
              "</tr>\n",
              "        \n",
              "            <tr style=\"background-color: hsl(120, 100.00%, 88.00%); border: none;\">\n",
              "    <td style=\"padding: 0 1em 0 0.5em; text-align: right; border: none;\">\n",
              "        +5.057\n",
              "    </td>\n",
              "    <td style=\"padding: 0 0.5em 0 0.5em; text-align: left; border: none;\">\n",
              "        text__everyone knows\n",
              "    </td>\n",
              "    \n",
              "</tr>\n",
              "        \n",
              "        \n",
              "            <tr style=\"background-color: hsl(120, 100.00%, 88.00%); border: none;\">\n",
              "                <td colspan=\"2\" style=\"padding: 0 0.5em 0 0.5em; text-align: center; border: none; white-space: nowrap;\">\n",
              "                    <i>&hellip; 199169 more positive &hellip;</i>\n",
              "                </td>\n",
              "            </tr>\n",
              "        \n",
              "\n",
              "        \n",
              "            <tr style=\"background-color: hsl(0, 100.00%, 88.11%); border: none;\">\n",
              "                <td colspan=\"2\" style=\"padding: 0 0.5em 0 0.5em; text-align: center; border: none; white-space: nowrap;\">\n",
              "                    <i>&hellip; 187069 more negative &hellip;</i>\n",
              "                </td>\n",
              "            </tr>\n",
              "        \n",
              "        \n",
              "            <tr style=\"background-color: hsl(0, 100.00%, 88.11%); border: none;\">\n",
              "    <td style=\"padding: 0 1em 0 0.5em; text-align: right; border: none;\">\n",
              "        -4.989\n",
              "    </td>\n",
              "    <td style=\"padding: 0 0.5em 0 0.5em; text-align: left; border: none;\">\n",
              "        text__true but\n",
              "    </td>\n",
              "    \n",
              "</tr>\n",
              "        \n",
              "            <tr style=\"background-color: hsl(0, 100.00%, 87.53%); border: none;\">\n",
              "    <td style=\"padding: 0 1em 0 0.5em; text-align: right; border: none;\">\n",
              "        -5.341\n",
              "    </td>\n",
              "    <td style=\"padding: 0 0.5em 0 0.5em; text-align: left; border: none;\">\n",
              "        text__iirc\n",
              "    </td>\n",
              "    \n",
              "</tr>\n",
              "        \n",
              "\n",
              "        </tbody>\n",
              "    </table>\n",
              "\n",
              "            \n",
              "        \n",
              "\n",
              "        \n",
              "\n",
              "\n",
              "\n",
              "    \n",
              "\n",
              "    \n",
              "\n",
              "    \n",
              "\n",
              "    \n",
              "\n",
              "\n",
              "    \n",
              "\n",
              "    \n",
              "\n",
              "    \n",
              "\n",
              "    \n",
              "\n",
              "    \n",
              "\n",
              "    \n",
              "\n",
              "\n",
              "    \n",
              "\n",
              "    \n",
              "\n",
              "    \n",
              "\n",
              "    \n",
              "\n",
              "    \n",
              "\n",
              "    \n",
              "\n",
              "\n",
              "\n"
            ],
            "text/plain": [
              "<IPython.core.display.HTML object>"
            ]
          },
          "metadata": {
            "tags": []
          },
          "execution_count": 117
        }
      ]
    },
    {
      "cell_type": "markdown",
      "metadata": {
        "id": "grzSqsZ29FeO"
      },
      "source": [
        "So using tf-idf with bi-grams and a minimum df count of 3 seems to be a good representation for the data for now.\n",
        "\n",
        "Later on i'll try to use embeddings too and see if they add any significant gains"
      ]
    },
    {
      "cell_type": "markdown",
      "metadata": {
        "id": "LG_KhIK6Faso"
      },
      "source": [
        "#### Let's save this model as the best one for now, and move on to more sophisticated classifiers"
      ]
    },
    {
      "cell_type": "code",
      "metadata": {
        "id": "kbqJgSBf_KW0"
      },
      "source": [
        "scores = {\n",
        "  'Training' : 0.78497,\n",
        "  'Validation' : 0.72373,\n",
        "  'Test' : 0.72621 # Calculated this on another run\n",
        "}\n",
        "best_model_so_far = {\n",
        "    'name' : 'tf-idf bi-gram min-df-3 logit-regressor', # Name of the model\n",
        "    'pipeline_and_params' : (tfidf_lr_pipeline, {}), # A tuple containing a sklearn.Pipeline object and a parameters dict\n",
        "    'scores' : scores, # A dict of scores on each dataset\n",
        "    'time' : 74 # Training time in seconds\n",
        "}"
      ],
      "execution_count": 56,
      "outputs": []
    },
    {
      "cell_type": "code",
      "metadata": {
        "id": "e7g1BI3GOXHs"
      },
      "source": [
        "save_model_pipeline_and_info(best_model_so_far, file_name='best_model_so_far.pickle')"
      ],
      "execution_count": 63,
      "outputs": []
    },
    {
      "cell_type": "markdown",
      "metadata": {
        "id": "oFIMe5oYFu16"
      },
      "source": [
        "## Using better Classifiers on a Bi-Gram Tf-Idf with min_df of 3"
      ]
    },
    {
      "cell_type": "code",
      "metadata": {
        "id": "2P7qyGp6qQ4C"
      },
      "source": [
        "def evaluate_model_pipelines(model_pipelines):\n",
        "  for name, (model_pipeline, fit_params) in model_pipelines.items():\n",
        "    print('\\n###########################################################################')\n",
        "    print('# Model type: {}'.format(name))\n",
        "    print('###########################################################################')\n",
        "    \n",
        "    # Train the model\n",
        "    fit_start = perf_counter()\n",
        "    model_pipeline.fit(df_train_for_clf, labels_train_for_clf, **fit_params)\n",
        "    fit_end = perf_counter()\n",
        "\n",
        "    # plot_model_performance(model_history)\n",
        "    \n",
        "    # Calculate the current model's performance and time\n",
        "    # fit time is in seconds\n",
        "    fit_time = fit_end - fit_start\n",
        "    fit_time_hours = int(fit_time / 60 / 60)\n",
        "    fit_time_minutes = int(fit_time / 60 )\n",
        "    fit_time_seconds = int(fit_time % 60)\n",
        "\n",
        "    print(\"Training time: {} hours, {} minutes, {} seconds\".format(fit_time_hours, fit_time_minutes, fit_time_seconds))\n",
        "\n",
        "    scores = {\n",
        "        'Training' : model_pipeline.score(df_train_for_clf, labels_train_for_clf),\n",
        "        'Validation' : model_pipeline.score(df_val_for_clf, labels_val_for_clf),\n",
        "        'Test' : model_pipeline.score(df_test_for_clf, labels_test_for_clf)\n",
        "        }\n",
        "    for dataset_type, score in scores.items():\n",
        "      print (\"%s accuracy: %0.5f \" % (dataset_type, score))"
      ],
      "execution_count": null,
      "outputs": []
    },
    {
      "cell_type": "code",
      "metadata": {
        "id": "NOdsJmImwkKp",
        "outputId": "33bdafcf-d27c-4f2b-c54a-9bb36cbabe44",
        "colab": {
          "base_uri": "https://localhost:8080/",
          "height": 153
        }
      },
      "source": [
        "evaluate_model_pipelines(model_pipes_to_evaluate)"
      ],
      "execution_count": null,
      "outputs": [
        {
          "output_type": "stream",
          "text": [
            "\n",
            "###########################################################################\n",
            "# Model type: tf-idf_bi-gram_min-df-3_logit-regressor\n",
            "###########################################################################\n",
            "Training time: 0 hours, 1 minutes, 71 seconds\n",
            "Training accuracy: 0.78497 \n",
            "Validation accuracy: 0.72373 \n",
            "Test accuracy: 0.72621 \n"
          ],
          "name": "stdout"
        }
      ]
    }
  ]
}